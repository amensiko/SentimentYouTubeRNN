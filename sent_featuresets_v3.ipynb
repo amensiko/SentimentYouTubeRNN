{
 "cells": [
  {
   "cell_type": "markdown",
   "metadata": {},
   "source": [
    "# Sentiment Analysis"
   ]
  },
  {
   "cell_type": "code",
   "execution_count": 9,
   "metadata": {},
   "outputs": [],
   "source": [
    "from __future__ import print_function\n",
    "%matplotlib inline\n",
    "\n",
    "from IPython.display import Image, display\n",
    "from io import BytesIO\n",
    "import matplotlib.pyplot as plt\n",
    "\n",
    "#import nltk\n",
    "#from nltk.tokenize import word_tokenize\n",
    "#from nltk.stem import WordNetLemmatizer\n",
    "\n",
    "#import numpy as numpy\n",
    "import random\n",
    "import pickle\n",
    "from collections import Counter\n",
    "import codecs\n",
    "import tensorflow as tf\n",
    "import np\n",
    "import time\n",
    "\n",
    "import os\n",
    "from os.path import join, exists\n",
    "\n",
    "import pandas as pd\n",
    "import pydot_ng as pydot\n",
    "import graphviz\n",
    "from ggplot import *\n",
    "\n",
    "from keras.utils.data_utils import get_file\n",
    "from keras.preprocessing.text import Tokenizer\n",
    "from keras.preprocessing import sequence\n",
    "from keras.models import Sequential\n",
    "from keras.layers import Dense, Embedding, Dropout, Flatten\n",
    "from keras.optimizers import RMSprop, Adam, SGD, Adagrad\n",
    "\n",
    "#nltk.download('punkt')\n",
    "#nltk.download('wordnet')\n",
    "#totalLinesToRead = 100\n",
    "#lemmatizer = WordNetLemmatizer()"
   ]
  },
  {
   "cell_type": "markdown",
   "metadata": {},
   "source": [
    "# Data load\n",
    "\n",
    "The first step when building machine learning model is getting your data into the proper form to feed into the model. \n"
   ]
  },
  {
   "cell_type": "code",
   "execution_count": 10,
   "metadata": {},
   "outputs": [],
   "source": [
    "with open('./data/netflix-train-pos', 'r') as f:\n",
    "    positive_train_txt = f.read()\n",
    "with open('./data/netflix-train-neg', 'r') as f:\n",
    "    negative_train_txt = f.read()"
   ]
  },
  {
   "cell_type": "code",
   "execution_count": 11,
   "metadata": {},
   "outputs": [
    {
     "name": "stdout",
     "output_type": "stream",
     "text": [
      "The positive data size: 16855330\n",
      "The negative data size: 16302491\n"
     ]
    }
   ],
   "source": [
    "print(\"The positive data size: {}\".format(len(positive_train_txt)))\n",
    "print(\"The negative data size: {}\".format(len(negative_train_txt)))"
   ]
  },
  {
   "cell_type": "markdown",
   "metadata": {},
   "source": [
    "# Download GloVe\n"
   ]
  },
  {
   "cell_type": "code",
   "execution_count": 12,
   "metadata": {},
   "outputs": [
    {
     "name": "stdout",
     "output_type": "stream",
     "text": [
      "Download glove.6B.zip\n",
      "Downloading data from http://nlp.stanford.edu/data/glove.6B.zip\n",
      "862183424/862182613 [==============================] - 801s 1us/step\n",
      "862191616/862182613 [==============================] - 801s 1us/step\n",
      "Extract ./datasets/glove.6B.300d.txt\n",
      "Embeddings size: 400000\n"
     ]
    }
   ],
   "source": [
    "data_folder = './datasets'\n",
    "glove = 'glove.6B'\n",
    "glove_filename = glove + '.zip'\n",
    "glove_url = 'http://nlp.stanford.edu/data/' + glove_filename\n",
    "embedding_dim = 300\n",
    "glove_loc = join(data_folder, glove_filename)\n",
    "\n",
    "if not exists(glove_loc):\n",
    "    print('Download %s' % glove_filename)\n",
    "    get_file(glove_filename, glove_url, cache_dir='.', extract=True)\n",
    "\n",
    "glove_filename = os.path.join(data_folder, glove + '.' + str(embedding_dim) + 'd.txt')\n",
    "\n",
    "embeddings = {}\n",
    "\n",
    "print('Extract %s' % glove_filename)\n",
    "with open(glove_filename, 'r') as f:\n",
    "    for line in f:\n",
    "        values = line.split(' ')\n",
    "        word = values[0]\n",
    "        embedding = np.asarray(values[1:], dtype='float32')\n",
    "        embeddings[word] = embedding\n",
    "        \n",
    "print('Embeddings size: %d' % len(embeddings))"
   ]
  },
  {
   "cell_type": "markdown",
   "metadata": {},
   "source": [
    "# Data preprocessing\n",
    "\n",
    "First, let's remove all punctuation. Then get all the text without the newlines and split it into individual words."
   ]
  },
  {
   "cell_type": "code",
   "execution_count": 13,
   "metadata": {},
   "outputs": [
    {
     "name": "stdout",
     "output_type": "stream",
     "text": [
      "Train shape: \t\t(2000,)\n",
      "Label shape: \t\t(2000, 2)\n"
     ]
    }
   ],
   "source": [
    "from string import punctuation\n",
    "\n",
    "def get_reviews(text):\n",
    "    #all_text = ''.join([c for c in text if c not in punctuation])\n",
    "    reviews = text.split('\\n')\n",
    "    return reviews[:1000] # TAKE first 1000 to make it fast\n",
    "\n",
    "positive_train = get_reviews(positive_train_txt)\n",
    "negative_train = get_reviews(negative_train_txt)\n",
    "\n",
    "positive_label = np.full((len(positive_train), 2), [1, 0])\n",
    "negative_label = np.full((len(negative_train), 2), [0, 1])\n",
    "\n",
    "train = np.concatenate((positive_train, negative_train), axis=0)\n",
    "labels = np.concatenate((positive_label, negative_label), axis=0)\n",
    "\n",
    "# shuffle\n",
    "c = np.c_[train.reshape(len(train), -1), labels.reshape(len(labels), -1)]\n",
    "np.random.shuffle(c)\n",
    "\n",
    "train = c[:, :train.size//len(train)].reshape(train.shape)\n",
    "labels = c[:, train.size//len(train):].reshape(labels.shape)\n",
    "\n",
    "del c\n",
    "del positive_label\n",
    "del negative_label\n",
    "\n",
    "print(\"Train shape: \\t\\t{}\".format(train.shape))\n",
    "print(\"Label shape: \\t\\t{}\".format(labels.shape))"
   ]
  },
  {
   "cell_type": "markdown",
   "metadata": {},
   "source": [
    "## Encoding the words\n",
    "Create dictinaries that map the words in the vocaulary to integers. Then we can convert each of our reviews into integers sos they can be passed into the network."
   ]
  },
  {
   "cell_type": "code",
   "execution_count": 14,
   "metadata": {},
   "outputs": [
    {
     "name": "stdout",
     "output_type": "stream",
     "text": [
      "Found 26981 unique tokens.\n"
     ]
    }
   ],
   "source": [
    "tokenizer = Tokenizer()\n",
    "tokenizer.fit_on_texts(train)\n",
    "train_ints = tokenizer.texts_to_sequences(train)\n",
    "word_index = tokenizer.word_index\n",
    "\n",
    "print('Found %s unique tokens.' % len(word_index))"
   ]
  },
  {
   "cell_type": "markdown",
   "metadata": {},
   "source": [
    "## Prepare Word Embeddings"
   ]
  },
  {
   "cell_type": "code",
   "execution_count": 15,
   "metadata": {},
   "outputs": [],
   "source": [
    "from collections import defaultdict\n",
    "NUM_WORDS = len(embeddings)\n",
    "words_len = min(NUM_WORDS, len(word_index))\n",
    "word_embedding_matrix = np.random.random((words_len + 1, embedding_dim))\n",
    "k = 0\n",
    "for word, i in word_index.items():\n",
    "    if i >= NUM_WORDS:\n",
    "        continue\n",
    "    embedding_vector = embeddings.get(word)\n",
    "    if embedding_vector is not None:\n",
    "        word_embedding_matrix[i] = embedding_vector\n",
    "        k += 1\n",
    "        \n",
    "del embeddings"
   ]
  },
  {
   "cell_type": "code",
   "execution_count": 16,
   "metadata": {},
   "outputs": [
    {
     "name": "stdout",
     "output_type": "stream",
     "text": [
      "Null word embeddings: -1\n",
      "Found 23388\n",
      "Total: 26982\n"
     ]
    }
   ],
   "source": [
    "print('Null word embeddings: %d' % (np.sum(np.sum(word_embedding_matrix, axis=1) == 0) - 1))\n",
    "print('Found %d' % k)\n",
    "print('Total: %d' % len(word_embedding_matrix))"
   ]
  },
  {
   "cell_type": "markdown",
   "metadata": {},
   "source": [
    "## Sentence length"
   ]
  },
  {
   "cell_type": "code",
   "execution_count": 17,
   "metadata": {},
   "outputs": [
    {
     "data": {
      "image/png": "[encoded data removed]",
      "text/plain": [
       "<matplotlib.figure.Figure at 0x7fd78ddf0390>"
      ]
     },
     "metadata": {},
     "output_type": "display_data"
    }
   ],
   "source": [
    "from collections import defaultdict\n",
    "\n",
    "max_word_count_text = 0\n",
    "text_count = defaultdict(int)\n",
    "for sentence in train_ints:\n",
    "    max_word_count_text = max(max_word_count_text, len(sentence))\n",
    "    text_count[len(sentence)] += 1\n",
    "    \n",
    "mpl_fig = plt.figure()\n",
    "ax = mpl_fig.add_subplot(111)\n",
    "\n",
    "ax.bar(range(len(text_count)), text_count.values())\n",
    "\n",
    "plt.title(\"Sentence Length Distribution\")\n",
    "plt.xlabel(\"Length\")\n",
    "plt.ylabel(\"Frequency\")\n",
    "plt.show()"
   ]
  },
  {
   "cell_type": "code",
   "execution_count": 18,
   "metadata": {},
   "outputs": [
    {
     "name": "stdout",
     "output_type": "stream",
     "text": [
      "Max word sentence: 1305\n"
     ]
    }
   ],
   "source": [
    "print('Max word sentence: %d' % max_word_count_text)"
   ]
  },
  {
   "cell_type": "markdown",
   "metadata": {},
   "source": [
    "Couple issues here. We seem to have one review with zero length. And, the maximum review length is way too many steps for our RNN. Let's truncate to 200 steps. For reviews shorter than 200, we'll pad with 0s. For reviews longer than 200, we can truncate them to the first 200 characters."
   ]
  },
  {
   "cell_type": "markdown",
   "metadata": {},
   "source": [
    "Turns out its the final review that has zero length. But that might not always be the case, so let's make it more general.\n"
   ]
  },
  {
   "cell_type": "code",
   "execution_count": 19,
   "metadata": {},
   "outputs": [],
   "source": [
    "#train_ints = [train_ints[ii] for ii in non_zero_idx]\n",
    "#labels = np.array([labels[ii] for ii in non_zero_idx])"
   ]
  },
  {
   "cell_type": "markdown",
   "metadata": {},
   "source": [
    "Now, create an array features that contains the data we'll pass to the network. The data should come from review_ints, since we want to feed integers to the network. Each row should be 200 elements long. For reviews shorter than 200 words, left pad with 0s. That is, if the review is ['best', 'movie', 'ever'], [117, 18, 128] as integers, the row will look like [0, 0, 0, ..., 0, 117, 18, 128]. For reviews longer than 200, use on the first 200 words as the feature vector."
   ]
  },
  {
   "cell_type": "code",
   "execution_count": 20,
   "metadata": {},
   "outputs": [],
   "source": [
    "seq_len = 200\n",
    "features = sequence.pad_sequences(train_ints, maxlen = seq_len)"
   ]
  },
  {
   "cell_type": "code",
   "execution_count": 21,
   "metadata": {},
   "outputs": [
    {
     "name": "stdout",
     "output_type": "stream",
     "text": [
      "One sample\n",
      "Text: \n",
      "Love it, love it, love it! This is another absolutely superb performance from the Divine Miss M. From the beginning to the end, this is one big treat! Don't rent it- buy it now!\n",
      "Word sequence: \n",
      "[116, 9, 116, 9, 116, 9, 11, 6, 163, 404, 856, 239, 36, 1, 5839, 855, 2120, 36, 1, 427, 5, 1, 127, 11, 6, 27, 190, 1879, 87, 926, 9, 841, 9, 153]\n",
      "Pad: \n",
      "[   0    0    0    0    0    0    0    0    0    0    0    0    0    0    0\n",
      "    0    0    0    0    0    0    0    0    0    0    0    0    0    0    0\n",
      "    0    0    0    0    0    0    0    0    0    0    0    0    0    0    0\n",
      "    0    0    0    0    0    0    0    0    0    0    0    0    0    0    0\n",
      "    0    0    0    0    0    0    0    0    0    0    0    0    0    0    0\n",
      "    0    0    0    0    0    0    0    0    0    0    0    0    0    0    0\n",
      "    0    0    0    0    0    0    0    0    0    0    0    0    0    0    0\n",
      "    0    0    0    0    0    0    0    0    0    0    0    0    0    0    0\n",
      "    0    0    0    0    0    0    0    0    0    0    0    0    0    0    0\n",
      "    0    0    0    0    0    0    0    0    0    0    0    0    0    0    0\n",
      "    0    0    0    0    0    0    0    0    0    0    0    0    0    0    0\n",
      "    0  116    9  116    9  116    9   11    6  163  404  856  239   36    1\n",
      " 5839  855 2120   36    1  427    5    1  127   11    6   27  190 1879   87\n",
      "  926    9  841    9  153]\n",
      "Label: \n",
      "['1' '0']\n"
     ]
    }
   ],
   "source": [
    "\n",
    "print('One sample')\n",
    "\n",
    "print('Text: ')\n",
    "print( train[2] )\n",
    "\n",
    "print('Word sequence: ')\n",
    "print( train_ints[2] )\n",
    "\n",
    "print('Pad: ')\n",
    "print( features[2] )\n",
    "\n",
    "print('Label: ')\n",
    "print( labels[2] )\n",
    "\n",
    "del train"
   ]
  },
  {
   "cell_type": "markdown",
   "metadata": {},
   "source": [
    "# Training, Validation, Test\n",
    "\n",
    "With our data in nice shape, we'll split it into training, validation, and test sets. Do not foget to shuffle it."
   ]
  },
  {
   "cell_type": "code",
   "execution_count": 22,
   "metadata": {},
   "outputs": [
    {
     "name": "stdout",
     "output_type": "stream",
     "text": [
      "\t\t\tFeature Shapes:\n",
      "Train set: \t\t(1600, 200)\n",
      "Validation set: \t(200, 200)\n",
      "Test set: \t\t(200, 200)\n",
      "Train lable: \t\t(1600, 2)\n"
     ]
    }
   ],
   "source": [
    "split_idx = int(len(features)*0.8)\n",
    "train_x, val_x = features[:split_idx], features[split_idx:]\n",
    "train_y, val_y = labels[:split_idx], labels[split_idx:]\n",
    "\n",
    "test_idx = int(len(val_x)*0.5)\n",
    "val_x, test_x = val_x[:test_idx], val_x[test_idx:]\n",
    "val_y, test_y = val_y[:test_idx], val_y[test_idx:]\n",
    "\n",
    "print(\"\\t\\t\\tFeature Shapes:\")\n",
    "print(\"Train set: \\t\\t{}\".format(train_x.shape)) \n",
    "print(\"Validation set: \\t{}\".format(val_x.shape))\n",
    "print(\"Test set: \\t\\t{}\".format(test_x.shape))\n",
    "\n",
    "print(\"Train lable: \\t\\t{}\".format(train_y.shape))\n"
   ]
  },
  {
   "cell_type": "markdown",
   "metadata": {},
   "source": [
    "# Generate Lemmas "
   ]
  },
  {
   "cell_type": "code",
   "execution_count": 23,
   "metadata": {},
   "outputs": [
    {
     "data": {
      "text/plain": [
       "\"\\ndef lematizeFile(fileName):\\n    lex = []\\n    with open(fileName, 'r') as f:\\n        contains = f.readlines()\\n        for line in contains[:totalLinesToRead]:\\n            words = word_tokenize(line.decode('utf-8', 'replace'))\\n            lex += list(words)\\n    return [lemmatizer.lemmatize(i) for i in lex]\\n\""
      ]
     },
     "execution_count": 23,
     "metadata": {},
     "output_type": "execute_result"
    }
   ],
   "source": [
    "'''\n",
    "def lematizeFile(fileName):\n",
    "    lex = []\n",
    "    with open(fileName, 'r') as f:\n",
    "        contains = f.readlines()\n",
    "        for line in contains[:totalLinesToRead]:\n",
    "            words = word_tokenize(line.decode('utf-8', 'replace'))\n",
    "            lex += list(words)\n",
    "    return [lemmatizer.lemmatize(i) for i in lex]\n",
    "'''"
   ]
  },
  {
   "cell_type": "code",
   "execution_count": 24,
   "metadata": {},
   "outputs": [],
   "source": [
    "# positiveLemmas = lematizeFile('./data/netflix-train-pos')\n",
    "# negativeLemmas = lematizeFile('./data/netflix-train-neg')"
   ]
  },
  {
   "cell_type": "code",
   "execution_count": 25,
   "metadata": {},
   "outputs": [],
   "source": [
    "# print(\"First lemma \" + positiveLemmas[0])"
   ]
  },
  {
   "cell_type": "code",
   "execution_count": 26,
   "metadata": {},
   "outputs": [],
   "source": [
    "#print(\"Positive lemmas: \" + str(len(positiveLemmas)))\n",
    "#print(\"Negative lemmas: \" + str(len(negativeLemmas)))"
   ]
  },
  {
   "cell_type": "code",
   "execution_count": 27,
   "metadata": {},
   "outputs": [],
   "source": [
    "#lemmas = positiveLemmas + negativeLemmas"
   ]
  },
  {
   "cell_type": "markdown",
   "metadata": {},
   "source": [
    "## Lemmatize (take words repeats 50 < count < 1000)"
   ]
  },
  {
   "cell_type": "code",
   "execution_count": 28,
   "metadata": {},
   "outputs": [],
   "source": [
    "#words = Counter(lemmas)\n",
    "#vocabulary = []\n",
    "#for word in words:\n",
    "#    if 50 < words[word] < 1000:\n",
    "#            vocabulary.append(word)"
   ]
  },
  {
   "cell_type": "code",
   "execution_count": 29,
   "metadata": {},
   "outputs": [],
   "source": [
    "#print(\"Vocabulary: \" + str(len(vocabulary)))\n",
    "#print(\"Sample: \" + vocabulary[0])"
   ]
  },
  {
   "cell_type": "markdown",
   "metadata": {},
   "source": [
    "# Make One Hot Encoding features"
   ]
  },
  {
   "cell_type": "code",
   "execution_count": 30,
   "metadata": {},
   "outputs": [
    {
     "data": {
      "text/plain": [
       "\"\\ndef samples(classif, lex, section):\\n    features = []\\n    with open(section, 'r') as file1:\\n        contents = file1.readlines()\\n        for line in contents[:totalLinesToRead]:\\n            words = word_tokenize(line.decode('utf-8', 'replace').lower())\\n            words = [lemmatizer.lemmatize(i) for i in words]\\n            feats = numpy.zeros(len(lex))\\n            for w in words:\\n                if w.lower() in lex:\\n                    index = lex.index(w.lower())\\n                    feats[index] += 1\\n            feats = list(feats)\\n            features.append([feats, classif])\\n            \\n    return features\\n\""
      ]
     },
     "execution_count": 30,
     "metadata": {},
     "output_type": "execute_result"
    }
   ],
   "source": [
    "'''\n",
    "def samples(classif, lex, section):\n",
    "    features = []\n",
    "    with open(section, 'r') as file1:\n",
    "        contents = file1.readlines()\n",
    "        for line in contents[:totalLinesToRead]:\n",
    "            words = word_tokenize(line.decode('utf-8', 'replace').lower())\n",
    "            words = [lemmatizer.lemmatize(i) for i in words]\n",
    "            feats = numpy.zeros(len(lex))\n",
    "            for w in words:\n",
    "                if w.lower() in lex:\n",
    "                    index = lex.index(w.lower())\n",
    "                    feats[index] += 1\n",
    "            feats = list(feats)\n",
    "            features.append([feats, classif])\n",
    "            \n",
    "    return features\n",
    "'''"
   ]
  },
  {
   "cell_type": "code",
   "execution_count": 31,
   "metadata": {},
   "outputs": [],
   "source": [
    "#positive_features = samples([1,0], vocabulary, './data/netflix-train-pos')\n",
    "#negative_features = samples([0,1], vocabulary, './data/netflix-train-neg')"
   ]
  },
  {
   "cell_type": "code",
   "execution_count": 32,
   "metadata": {},
   "outputs": [],
   "source": [
    "#print(\"Positive features size: \" + str(len(positive_features)))\n",
    "#print(\"Negative features size: \" + str(len(negative_features)))"
   ]
  },
  {
   "cell_type": "markdown",
   "metadata": {},
   "source": [
    "##  Training, Validation, Test\n",
    "\n",
    "With our data in nice shape, we'll split it into training, validation, and test sets. Do not foget to shuffle it."
   ]
  },
  {
   "cell_type": "code",
   "execution_count": 33,
   "metadata": {},
   "outputs": [],
   "source": [
    "#features = positive_features + negative_features\n",
    "#random.shuffle(features)\n",
    "#features = np.array(features)\n",
    "\n",
    "#testRation=0.1\n",
    "#testSize = int(len(features)*testRation)\n",
    "#training_positive = list(features[:,0][:-testSize])\n",
    "#training_negative = list(features[:,1][:-testSize])\n",
    "\n",
    "#testing_positive = list(features[:,0][-testSize:])\n",
    "#testing_negative = list(features[:,1][-testSize:])\n",
    "\n"
   ]
  },
  {
   "cell_type": "markdown",
   "metadata": {},
   "source": [
    "## Save to Pickle"
   ]
  },
  {
   "cell_type": "code",
   "execution_count": 34,
   "metadata": {},
   "outputs": [],
   "source": [
    "#with open('sentiment_set.pickle', 'wb') as f:\n",
    "#    pickle.dump([training_positive, training_negative, testing_positive, testing_negative], f)"
   ]
  },
  {
   "cell_type": "markdown",
   "metadata": {},
   "source": [
    "## Create Sentiment Neural Network"
   ]
  },
  {
   "cell_type": "code",
   "execution_count": 35,
   "metadata": {},
   "outputs": [],
   "source": [
    "def createModel(hidden_size, drop_size):\n",
    "    model = Sequential()\n",
    "\n",
    "    model.add(Dense(hidden_size, activation='relu', input_dim = seq_len))\n",
    "    \n",
    "    if drop_size > 0.0:\n",
    "        model.add(Dropout(drop_size))\n",
    "\n",
    "    model.add(Dense(hidden_size, activation='relu'))\n",
    "\n",
    "    if drop_size > 0.0:\n",
    "        model.add(Dropout(drop_size))\n",
    "\n",
    "    model.add(Dense(hidden_size, activation='relu'))\n",
    "\n",
    "    if drop_size > 0.0:\n",
    "        model.add(Dropout(drop_size))\n",
    "\n",
    "    model.add(Dense(2, activation='sigmoid'))\n",
    "\n",
    "    optimizer = Adam(lr=0.001, beta_1=0.9, beta_2=0.999, epsilon=1e-08, decay=0.0)\n",
    "\n",
    "    model.compile(loss = 'binary_crossentropy',\n",
    "                  optimizer = optimizer,\n",
    "                  metrics = ['accuracy'])\n",
    "    return model\n",
    "\n",
    "\n"
   ]
  },
  {
   "cell_type": "code",
   "execution_count": 36,
   "metadata": {},
   "outputs": [],
   "source": [
    "def createEmbeddedModel(hidden_size, drop_size):\n",
    "    model = Sequential()\n",
    "    \n",
    "    model.add(Embedding(words_len + 1,\n",
    "                     embedding_dim,\n",
    "                     weights = [word_embedding_matrix],\n",
    "                     input_length = seq_len,\n",
    "                     trainable = False,\n",
    "                     name = 'embedding'))\n",
    "    if drop_size > 0.0:\n",
    "        model.add(Dropout(drop_size))\n",
    "    \n",
    "    model.add(Dense(hidden_size, activation='relu', input_dim = seq_len, name=\"hidden_1\"))\n",
    "    \n",
    "    if drop_size > 0.0:\n",
    "        model.add(Dropout(drop_size))\n",
    "\n",
    "    model.add(Dense(hidden_size, activation='relu', name=\"hidden_2\"))\n",
    "\n",
    "    if drop_size > 0.0:\n",
    "        model.add(Dropout(drop_size))\n",
    "\n",
    "    model.add(Dense(hidden_size, activation='relu', name=\"hidden_3\"))\n",
    "\n",
    "    if drop_size > 0.0:\n",
    "        model.add(Dropout(drop_size))\n",
    "        \n",
    "    model.add(Flatten())\n",
    "\n",
    "    model.add(Dense(2, activation='sigmoid', name=\"output\"))\n",
    "\n",
    "    optimizer = Adam(lr=0.001, beta_1=0.9, beta_2=0.999, epsilon=1e-08, decay=0.0)\n",
    "\n",
    "    model.compile(loss = 'binary_crossentropy',\n",
    "                  optimizer = optimizer,\n",
    "                  metrics = ['accuracy'])\n",
    "    return model"
   ]
  },
  {
   "cell_type": "markdown",
   "metadata": {},
   "source": [
    "## Train model"
   ]
  },
  {
   "cell_type": "code",
   "execution_count": 37,
   "metadata": {},
   "outputs": [
    {
     "name": "stdout",
     "output_type": "stream",
     "text": [
      "\n",
      "Start learning model_200_drop_0.1 at 1519849852\n",
      "Epochs: 5\n",
      "Batch size: 100\n",
      "Train on 1600 samples, validate on 200 samples\n",
      "Epoch 1/5\n",
      "1600/1600 [==============================] - 1s 894us/step - loss: 8.2189 - acc: 0.4862 - val_loss: 7.1823 - val_acc: 0.5500\n",
      "Epoch 2/5\n",
      "1600/1600 [==============================] - 0s 275us/step - loss: 8.0787 - acc: 0.4959 - val_loss: 7.2136 - val_acc: 0.5500\n",
      "Epoch 3/5\n",
      "1600/1600 [==============================] - 1s 385us/step - loss: 8.1153 - acc: 0.4937 - val_loss: 7.2136 - val_acc: 0.5500\n",
      "Epoch 4/5\n",
      "1600/1600 [==============================] - 0s 180us/step - loss: 8.1153 - acc: 0.4937 - val_loss: 7.2136 - val_acc: 0.5500\n",
      "Epoch 5/5\n",
      "1600/1600 [==============================] - 0s 230us/step - loss: 8.1153 - acc: 0.4937 - val_loss: 7.2136 - val_acc: 0.5500\n",
      "Time: 5\n",
      "\n",
      "Start learning model_200_embedded at 1519849857\n",
      "Epochs: 5\n",
      "Batch size: 100\n",
      "Train on 1600 samples, validate on 200 samples\n",
      "Epoch 1/5\n",
      "1600/1600 [==============================] - 36s 23ms/step - loss: 0.7549 - acc: 0.5144 - val_loss: 0.6949 - val_acc: 0.4475\n",
      "Epoch 2/5\n",
      "1600/1600 [==============================] - 24s 15ms/step - loss: 0.6867 - acc: 0.5528 - val_loss: 0.7050 - val_acc: 0.4500\n",
      "Epoch 3/5\n",
      "1600/1600 [==============================] - 13s 8ms/step - loss: 0.6724 - acc: 0.6331 - val_loss: 0.7002 - val_acc: 0.4950\n",
      "Epoch 4/5\n",
      "1600/1600 [==============================] - 12s 8ms/step - loss: 0.6316 - acc: 0.6653 - val_loss: 0.6527 - val_acc: 0.6550\n",
      "Epoch 5/5\n",
      "1600/1600 [==============================] - 16s 10ms/step - loss: 0.5253 - acc: 0.7684 - val_loss: 0.5736 - val_acc: 0.7025\n",
      "Time: 102\n"
     ]
    }
   ],
   "source": [
    "batch_size = 100\n",
    "epochs = 5\n",
    "\n",
    "models = {}\n",
    "\n",
    "models['model_200_drop_0.1'] = createModel(200, 0.1)\n",
    "#models['model_400_drop_0.1'] = createModel(400, 0.1)\n",
    "#models['model_600_drop_0.1'] = createModel(600, 0.1)\n",
    "#models['model_200_no_drop'] = createModel(200, 0)\n",
    "#models['model_400_no_drop'] = createModel(400, 0)\n",
    "#models['model_600_no_drop'] = createModel(600, 0)\n",
    "\n",
    "models['model_200_embedded'] = createEmbeddedModel(200, 0.1)\n",
    "\n",
    "modes = [ 'model' ]\n",
    "results = []\n",
    "for name, model in models.items():  \n",
    "    start_time = time.time()\n",
    "    print('')\n",
    "    print('Start learning %s at %d' % (name, start_time))\n",
    "    print('Epochs: %d' % epochs)\n",
    "    print('Batch size: %d' % batch_size)\n",
    "\n",
    "    history = model.fit(train_x, train_y,\n",
    "              batch_size = batch_size,\n",
    "              epochs = epochs,\n",
    "              validation_data=(val_x, val_y))\n",
    "\n",
    "    end_time = time.time()\n",
    "    average_time_per_epoch = (end_time - start_time) / epochs\n",
    "    results.append((history, average_time_per_epoch))\n",
    "    print('Time: %d' % (end_time - start_time))"
   ]
  },
  {
   "cell_type": "code",
   "execution_count": 38,
   "metadata": {},
   "outputs": [
    {
     "name": "stdout",
     "output_type": "stream",
     "text": [
      "200/200 [==============================] - 0s 416us/step\n",
      "Model: model_200_drop_0.1\n",
      "  Test score: 8.01512098312\n",
      "  Test accuracy: 0.5\n",
      "200/200 [==============================] - 1s 3ms/step\n",
      "Model: model_200_embedded\n",
      "  Test score: 0.521999508142\n",
      "  Test accuracy: 0.752499997616\n"
     ]
    }
   ],
   "source": [
    "for name, model in models.items():  \n",
    "    \n",
    "    score, acc = model.evaluate(test_x, test_y,\n",
    "                                batch_size=batch_size)\n",
    "    print('Model:', name)\n",
    "    print('  Test score:', score)\n",
    "    print('  Test accuracy:', acc)"
   ]
  },
  {
   "cell_type": "markdown",
   "metadata": {},
   "source": [
    "# Training Results"
   ]
  },
  {
   "cell_type": "code",
   "execution_count": 39,
   "metadata": {},
   "outputs": [
    {
     "data": {
      "image/png": "[encoded data removed]",
      "text/plain": [
       "<matplotlib.figure.Figure at 0x7fd786e25710>"
      ]
     },
     "metadata": {},
     "output_type": "display_data"
    }
   ],
   "source": [
    "\n",
    "plt.style.use('ggplot')\n",
    "plt.figure(figsize=(14, 10))#, dpi=100)\n",
    "\n",
    "ax1 = plt.subplot2grid((3, 2), (0, 0))\n",
    "ax1.set_title('Test Accuracy')\n",
    "ax1.set_ylabel('Accuracy')\n",
    "ax1.set_xlabel('Epochs')\n",
    "\n",
    "ax2 = plt.subplot2grid((3, 2), (1, 0))\n",
    "ax2.set_title('Test Loss')\n",
    "ax2.set_ylabel('Loss')\n",
    "ax2.set_xlabel('Epochs')\n",
    "\n",
    "ax3 = plt.subplot2grid((3, 2), (0, 1))\n",
    "ax3.set_title('Validation Accuracy')\n",
    "ax3.set_ylabel('Accuracy')\n",
    "ax3.set_xlabel('Epochs')\n",
    "\n",
    "ax4 = plt.subplot2grid((3, 2), (1, 1))\n",
    "ax4.set_title('Validation Loss')\n",
    "ax4.set_ylabel('Loss')\n",
    "ax4.set_xlabel('Epochs')\n",
    "\n",
    "ax5 = plt.subplot2grid((3, 2), (2, 0), rowspan=1, colspan=2)\n",
    "ax5.set_title('Time')\n",
    "ax5.set_ylabel('Seconds')\n",
    "\n",
    "for mode, result in zip(models, results):\n",
    "    ax1.plot(result[0].epoch, result[0].history['acc'], label=mode)\n",
    "    ax2.plot(result[0].epoch, result[0].history['loss'], label=mode)\n",
    "    ax3.plot(result[0].epoch, result[0].history['val_acc'], label=mode)\n",
    "    ax4.plot(result[0].epoch, result[0].history['val_loss'], label=mode)\n",
    "    \n",
    "ax1.legend()\n",
    "ax2.legend()\n",
    "\n",
    "ax3.legend()\n",
    "ax4.legend()\n",
    "\n",
    "ax5.bar(np.arange(len(results)), [x[1] for x in results], tick_label = models.keys(), align='center')\n",
    "\n",
    "plt.tight_layout()\n",
    "plt.show()"
   ]
  },
  {
   "cell_type": "code",
   "execution_count": 40,
   "metadata": {},
   "outputs": [
    {
     "data": {
      "text/plain": [
       "'\\nn_nodes_hl1 = 500\\nn_nodes_hl2 = 500\\nn_nodes_hl3 = 500\\n\\nn_classes = 2\\nbatch_size = 100\\n\\nx = tf.placeholder(\\'float\\', [None, seq_len], name=\"inputs\")\\ny = tf.placeholder(\\'float\\', [None, 2], name=\"labels\")\\n\\ndef neural_network_model(data):\\n    hidden_1_layer = {\\'weights\\':tf.Variable(tf.random_normal([seq_len, n_nodes_hl1])),\\n                      \\'biases\\':tf.Variable(tf.random_normal([n_nodes_hl1]))}\\n\\n    hidden_2_layer = {\\'weights\\':tf.Variable(tf.random_normal([n_nodes_hl1, n_nodes_hl2])),\\n                      \\'biases\\':tf.Variable(tf.random_normal([n_nodes_hl2]))}\\n\\n    hidden_3_layer = {\\'weights\\':tf.Variable(tf.random_normal([n_nodes_hl2, n_nodes_hl3])),\\n                      \\'biases\\':tf.Variable(tf.random_normal([n_nodes_hl3]))}\\n\\n    output_layer = {\\'weights\\':tf.Variable(tf.random_normal([n_nodes_hl3, n_classes])),\\n                    \\'biases\\':tf.Variable(tf.random_normal([n_classes])),}\\n\\n\\n    l1 = tf.add(tf.matmul(data,hidden_1_layer[\\'weights\\']), hidden_1_layer[\\'biases\\'])\\n    l1 = tf.nn.relu(l1)\\n\\n    l2 = tf.add(tf.matmul(l1,hidden_2_layer[\\'weights\\']), hidden_2_layer[\\'biases\\'])\\n    l2 = tf.nn.relu(l2)\\n\\n    l3 = tf.add(tf.matmul(l2,hidden_3_layer[\\'weights\\']), hidden_3_layer[\\'biases\\'])\\n    l3 = tf.nn.relu(l3)\\n\\n    output = tf.matmul(l3,output_layer[\\'weights\\']) + output_layer[\\'biases\\']\\n\\n    return output\\n\\ndef train_neural_network(x):\\n    prediction = neural_network_model(x)\\n    cost = tf.reduce_mean( tf.nn.softmax_cross_entropy_with_logits(logits=prediction, labels=y) )\\n    optimizer = tf.train.AdamOptimizer().minimize(cost)\\n    \\n    hm_epochs = 10\\n    with tf.Session() as sess:\\n        sess.run(tf.global_variables_initializer())\\n\\n        for epoch in range(hm_epochs):\\n            epoch_loss = 0\\n            \\n            i = 0\\n            while i < len(train_x):\\n                start = i\\n                end = i+batch_size\\n                batch_one = numpy.array(train_x[start:end])\\n                batch_two = numpy.array(train_y[start:end])\\n                \\n                _, c = sess.run([optimizer, cost], feed_dict={x: batch_one, y: batch_two})\\n                epoch_loss += c\\n                i += batch_size\\n\\n            print(\\'Epoch\\', epoch+1, \\'completed out of\\',hm_epochs,\\'loss:\\',epoch_loss)\\n\\n        correct = tf.equal(tf.argmax(prediction, 1), tf.argmax(y, 1))\\n        accuracy = tf.reduce_mean(tf.cast(correct, \\'float\\'))\\n        print(\\'Accuracy:\\',accuracy.eval({x: val_x, y: val_y}))\\n\\ntrain_neural_network(x)\\n\\n'"
      ]
     },
     "execution_count": 40,
     "metadata": {},
     "output_type": "execute_result"
    }
   ],
   "source": [
    "'''\n",
    "n_nodes_hl1 = 500\n",
    "n_nodes_hl2 = 500\n",
    "n_nodes_hl3 = 500\n",
    "\n",
    "n_classes = 2\n",
    "batch_size = 100\n",
    "\n",
    "x = tf.placeholder('float', [None, seq_len], name=\"inputs\")\n",
    "y = tf.placeholder('float', [None, 2], name=\"labels\")\n",
    "\n",
    "def neural_network_model(data):\n",
    "    hidden_1_layer = {'weights':tf.Variable(tf.random_normal([seq_len, n_nodes_hl1])),\n",
    "                      'biases':tf.Variable(tf.random_normal([n_nodes_hl1]))}\n",
    "\n",
    "    hidden_2_layer = {'weights':tf.Variable(tf.random_normal([n_nodes_hl1, n_nodes_hl2])),\n",
    "                      'biases':tf.Variable(tf.random_normal([n_nodes_hl2]))}\n",
    "\n",
    "    hidden_3_layer = {'weights':tf.Variable(tf.random_normal([n_nodes_hl2, n_nodes_hl3])),\n",
    "                      'biases':tf.Variable(tf.random_normal([n_nodes_hl3]))}\n",
    "\n",
    "    output_layer = {'weights':tf.Variable(tf.random_normal([n_nodes_hl3, n_classes])),\n",
    "                    'biases':tf.Variable(tf.random_normal([n_classes])),}\n",
    "\n",
    "\n",
    "    l1 = tf.add(tf.matmul(data,hidden_1_layer['weights']), hidden_1_layer['biases'])\n",
    "    l1 = tf.nn.relu(l1)\n",
    "\n",
    "    l2 = tf.add(tf.matmul(l1,hidden_2_layer['weights']), hidden_2_layer['biases'])\n",
    "    l2 = tf.nn.relu(l2)\n",
    "\n",
    "    l3 = tf.add(tf.matmul(l2,hidden_3_layer['weights']), hidden_3_layer['biases'])\n",
    "    l3 = tf.nn.relu(l3)\n",
    "\n",
    "    output = tf.matmul(l3,output_layer['weights']) + output_layer['biases']\n",
    "\n",
    "    return output\n",
    "\n",
    "def train_neural_network(x):\n",
    "    prediction = neural_network_model(x)\n",
    "    cost = tf.reduce_mean( tf.nn.softmax_cross_entropy_with_logits(logits=prediction, labels=y) )\n",
    "    optimizer = tf.train.AdamOptimizer().minimize(cost)\n",
    "    \n",
    "    hm_epochs = 10\n",
    "    with tf.Session() as sess:\n",
    "        sess.run(tf.global_variables_initializer())\n",
    "\n",
    "        for epoch in range(hm_epochs):\n",
    "            epoch_loss = 0\n",
    "            \n",
    "            i = 0\n",
    "            while i < len(train_x):\n",
    "                start = i\n",
    "                end = i+batch_size\n",
    "                batch_one = numpy.array(train_x[start:end])\n",
    "                batch_two = numpy.array(train_y[start:end])\n",
    "                \n",
    "                _, c = sess.run([optimizer, cost], feed_dict={x: batch_one, y: batch_two})\n",
    "                epoch_loss += c\n",
    "                i += batch_size\n",
    "\n",
    "            print('Epoch', epoch+1, 'completed out of',hm_epochs,'loss:',epoch_loss)\n",
    "\n",
    "        correct = tf.equal(tf.argmax(prediction, 1), tf.argmax(y, 1))\n",
    "        accuracy = tf.reduce_mean(tf.cast(correct, 'float'))\n",
    "        print('Accuracy:',accuracy.eval({x: val_x, y: val_y}))\n",
    "\n",
    "train_neural_network(x)\n",
    "\n",
    "'''"
   ]
  },
  {
   "cell_type": "markdown",
   "metadata": {},
   "source": [
    "# Validation\n"
   ]
  },
  {
   "cell_type": "code",
   "execution_count": 41,
   "metadata": {},
   "outputs": [
    {
     "data": {
      "text/plain": [
       "'\\ntest_acc = []\\nwith tf.Session(graph=graph) as sess:\\n     _, c = sess.run([optimizer, cost], feed_dict={x: test, y: batch_two})\\n     '"
      ]
     },
     "execution_count": 41,
     "metadata": {},
     "output_type": "execute_result"
    }
   ],
   "source": [
    "'''\n",
    "test_acc = []\n",
    "with tf.Session(graph=graph) as sess:\n",
    "     _, c = sess.run([optimizer, cost], feed_dict={x: test, y: batch_two})\n",
    "     '''"
   ]
  },
  {
   "cell_type": "markdown",
   "metadata": {},
   "source": [
    "## Using more data"
   ]
  },
  {
   "cell_type": "code",
   "execution_count": 42,
   "metadata": {},
   "outputs": [
    {
     "data": {
      "text/plain": [
       "'\\nimport io\\n\\ndef init_process(fin,fout):\\n    outfile = open(fout,\\'a\\')\\n    with io.open(fin, buffering=200000, encoding=\\'latin-1\\') as f:\\n        try:\\n            for line in f:\\n                line = line.replace(\\'\"\\',\\'\\')\\n                initial_polarity = line.split(\\',\\')[0]\\n                if initial_polarity == \\'0\\':\\n                    initial_polarity = [1,0]\\n                elif initial_polarity == \\'4\\':\\n                    initial_polarity = [0,1]\\n\\n                tweet = line.split(\\',\\')[-1]\\n                outline = str(initial_polarity)+\\':::\\'+tweet\\n                outfile.write(outline)\\n        except Exception as e:\\n            print(str(e))\\n    outfile.close()\\n    '"
      ]
     },
     "execution_count": 42,
     "metadata": {},
     "output_type": "execute_result"
    }
   ],
   "source": [
    "'''\n",
    "import io\n",
    "\n",
    "def init_process(fin,fout):\n",
    "    outfile = open(fout,'a')\n",
    "    with io.open(fin, buffering=200000, encoding='latin-1') as f:\n",
    "        try:\n",
    "            for line in f:\n",
    "                line = line.replace('\"','')\n",
    "                initial_polarity = line.split(',')[0]\n",
    "                if initial_polarity == '0':\n",
    "                    initial_polarity = [1,0]\n",
    "                elif initial_polarity == '4':\n",
    "                    initial_polarity = [0,1]\n",
    "\n",
    "                tweet = line.split(',')[-1]\n",
    "                outline = str(initial_polarity)+':::'+tweet\n",
    "                outfile.write(outline)\n",
    "        except Exception as e:\n",
    "            print(str(e))\n",
    "    outfile.close()\n",
    "    '''"
   ]
  },
  {
   "cell_type": "markdown",
   "metadata": {},
   "source": [
    "## Uploading the new Sentiment140 data"
   ]
  },
  {
   "cell_type": "code",
   "execution_count": 43,
   "metadata": {},
   "outputs": [
    {
     "data": {
      "text/plain": [
       "\"\\ninit_process('./data/training.1600000.processed.noemoticon.csv','train_set.csv')\\ninit_process('./data/testdata.manual.2009.06.14.csv','test_set.csv')\\n\""
      ]
     },
     "execution_count": 43,
     "metadata": {},
     "output_type": "execute_result"
    }
   ],
   "source": [
    "'''\n",
    "init_process('./data/training.1600000.processed.noemoticon.csv','train_set.csv')\n",
    "init_process('./data/testdata.manual.2009.06.14.csv','test_set.csv')\n",
    "'''"
   ]
  },
  {
   "cell_type": "code",
   "execution_count": null,
   "metadata": {},
   "outputs": [],
   "source": []
  }
 ],
 "metadata": {
  "kernelspec": {
   "display_name": "Python 2",
   "language": "python",
   "name": "python2"
  },
  "language_info": {
   "codemirror_mode": {
    "name": "ipython",
    "version": 2
   },
   "file_extension": ".py",
   "mimetype": "text/x-python",
   "name": "python",
   "nbconvert_exporter": "python",
   "pygments_lexer": "ipython2",
   "version": "2.7.12"
  }
 },
 "nbformat": 4,
 "nbformat_minor": 2
}
