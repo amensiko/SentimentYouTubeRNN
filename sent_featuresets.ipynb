{
 "cells": [
  {
   "cell_type": "code",
   "execution_count": 20,
   "metadata": {},
   "outputs": [],
   "source": [
    "import nltk\n",
    "from nltk.tokenize import word_tokenize\n",
    "from nltk.stem import WordNetLemmatizer\n",
    "import numpy as numpy\n",
    "import random\n",
    "import pickle\n",
    "from collections import Counter\n",
    "import codecs\n",
    "\n",
    "#nltk.download()\n",
    "totalLinesToRead = 100\n",
    "lemmatizer = WordNetLemmatizer()"
   ]
  },
  {
   "cell_type": "code",
   "execution_count": 26,
   "metadata": {},
   "outputs": [],
   "source": [
    "def lexicon_init(positive, negative):\n",
    "    lex = []\n",
    "    for file1 in [positive, negative]:\n",
    "        with open(file1, 'r') as fil:\n",
    "            fil = codecs.open(file1, encoding='utf-8')\n",
    "            contains = fil.readlines()\n",
    "            for line in contains[:totalLinesToRead]:\n",
    "                #print(line)\n",
    "                words = word_tokenize(line)\n",
    "                lex += list(words)\n",
    "    lex = [lemmatizer.lemmatize(i) for i in lex]\n",
    "    wordC = Counter(lex)\n",
    "    finalLex = []\n",
    "    for word in wordC:\n",
    "        if 50 < wordC[word] < 1000:\n",
    "            finalLex.append(word)\n",
    "    print(len(finalLex))\n",
    "    return finalLex\n",
    "#text = 'Reese Witherspoon plays Dani, a young country girl that falls madly in love with the new 17 year old neighbor, Court, played by Jason London.'\n",
    "#word_tokenize(text)"
   ]
  },
  {
   "cell_type": "code",
   "execution_count": 36,
   "metadata": {},
   "outputs": [],
   "source": [
    "def samples(classif, lex, section):\n",
    "    features = []\n",
    "    with open(section, 'r') as file1:\n",
    "        contents = file1.readlines()\n",
    "        for line in contents[:totalLinesToRead]:\n",
    "            words = word_tokenize(line.decode('utf-8').lower())\n",
    "            words = [lemmatizer.lemmatize(i) for i in words]\n",
    "            feats = numpy.zeros(len(lex))\n",
    "            for w in words:\n",
    "                if w.lower() in lex:\n",
    "                    index = lex.index(w.lower())\n",
    "                    feats[index] += 1\n",
    "            feats = list(feats)\n",
    "            features.append([feats, classif])\n",
    "            \n",
    "    return features"
   ]
  },
  {
   "cell_type": "code",
   "execution_count": 39,
   "metadata": {},
   "outputs": [],
   "source": [
    "def create_labels_plus_sets(positive, negative, size=0.1):\n",
    "    lex = lexicon_init(positive, negative)\n",
    "    features = []\n",
    "    #sample,lex,classif\n",
    "    features += samples([1,0], lex, './data/netflix-train-pos')\n",
    "    features += samples([0,1], lex, './data/netflix-train-neg')\n",
    "    random.shuffle(features)\n",
    "    \n",
    "    features = numpy.array(features)\n",
    "    testSize = int(len(features)*size)\n",
    "    training_one = list(features[:,0][:-testSize])\n",
    "    training_two = list(features[:,1][:-testSize])\n",
    "    testing_one = list(features[:,0][-testSize:])\n",
    "    testing_two = list(features[:,1][-testSize:])\n",
    "    \n",
    "    return training_one, training_two, testing_one, testing_two\n",
    "    "
   ]
  },
  {
   "cell_type": "code",
   "execution_count": 40,
   "metadata": {},
   "outputs": [
    {
     "name": "stdout",
     "output_type": "stream",
     "text": [
      "127\n"
     ]
    }
   ],
   "source": [
    "#if __name__ == '__main__':\n",
    "training_one, training_two, testing_one, testing_two = create_labels_plus_sets('./data/netflix-train-pos', './data/netflix-train-neg')\n",
    "with open('sentiment_set.pickle', 'wb') as fil:\n",
    "    pickle.dump([training_one, training_two, testing_one, testing_two], fil)\n",
    "        "
   ]
  },
  {
   "cell_type": "code",
   "execution_count": 46,
   "metadata": {},
   "outputs": [
    {
     "name": "stdout",
     "output_type": "stream",
     "text": [
      "127\n",
      "('Epoch', 1, 'completed out of', 10, 'loss:', 84755.34765625)\n",
      "('Epoch', 2, 'completed out of', 10, 'loss:', 47096.23828125)\n",
      "('Epoch', 3, 'completed out of', 10, 'loss:', 52282.806640625)\n",
      "('Epoch', 4, 'completed out of', 10, 'loss:', 49376.408203125)\n",
      "('Epoch', 5, 'completed out of', 10, 'loss:', 35786.87890625)\n",
      "('Epoch', 6, 'completed out of', 10, 'loss:', 27104.1201171875)\n",
      "('Epoch', 7, 'completed out of', 10, 'loss:', 26614.53515625)\n",
      "('Epoch', 8, 'completed out of', 10, 'loss:', 24232.240234375)\n",
      "('Epoch', 9, 'completed out of', 10, 'loss:', 17243.171875)\n",
      "('Epoch', 10, 'completed out of', 10, 'loss:', 11912.2265625)\n",
      "('Accuracy:', 0.55000001)\n"
     ]
    }
   ],
   "source": [
    "#import tensorflow as tf\n",
    "#from tensorflow.examples.tutorials.mnist import input_data\n",
    "#mnist = input_data.read_data_sets(\"/tmp/data/\", one_hot = True)\n",
    "\n",
    "training_one, training_two, testing_one, testing_two = create_labels_plus_sets('./data/netflix-train-pos', './data/netflix-train-neg')\n",
    "\n",
    "n_nodes_hl1 = 500\n",
    "n_nodes_hl2 = 500\n",
    "n_nodes_hl3 = 500\n",
    "\n",
    "n_classes = 2\n",
    "batch_size = 100\n",
    "\n",
    "x = tf.placeholder('float', [None, len(training_one[0])])\n",
    "y = tf.placeholder('float')\n",
    "\n",
    "def neural_network_model(data):\n",
    "    hidden_1_layer = {'weights':tf.Variable(tf.random_normal([len(training_one[0]), n_nodes_hl1])),\n",
    "                      'biases':tf.Variable(tf.random_normal([n_nodes_hl1]))}\n",
    "\n",
    "    hidden_2_layer = {'weights':tf.Variable(tf.random_normal([n_nodes_hl1, n_nodes_hl2])),\n",
    "                      'biases':tf.Variable(tf.random_normal([n_nodes_hl2]))}\n",
    "\n",
    "    hidden_3_layer = {'weights':tf.Variable(tf.random_normal([n_nodes_hl2, n_nodes_hl3])),\n",
    "                      'biases':tf.Variable(tf.random_normal([n_nodes_hl3]))}\n",
    "\n",
    "    output_layer = {'weights':tf.Variable(tf.random_normal([n_nodes_hl3, n_classes])),\n",
    "                    'biases':tf.Variable(tf.random_normal([n_classes])),}\n",
    "\n",
    "\n",
    "    l1 = tf.add(tf.matmul(data,hidden_1_layer['weights']), hidden_1_layer['biases'])\n",
    "    l1 = tf.nn.relu(l1)\n",
    "\n",
    "    l2 = tf.add(tf.matmul(l1,hidden_2_layer['weights']), hidden_2_layer['biases'])\n",
    "    l2 = tf.nn.relu(l2)\n",
    "\n",
    "    l3 = tf.add(tf.matmul(l2,hidden_3_layer['weights']), hidden_3_layer['biases'])\n",
    "    l3 = tf.nn.relu(l3)\n",
    "\n",
    "    output = tf.matmul(l3,output_layer['weights']) + output_layer['biases']\n",
    "\n",
    "    return output\n",
    "\n",
    "def train_neural_network(x):\n",
    "    prediction = neural_network_model(x)\n",
    "    # OLD VERSION:\n",
    "    #cost = tf.reduce_mean( tf.nn.softmax_cross_entropy_with_logits(prediction,y) )\n",
    "    # NEW:\n",
    "    cost = tf.reduce_mean( tf.nn.softmax_cross_entropy_with_logits(logits=prediction, labels=y) )\n",
    "    optimizer = tf.train.AdamOptimizer().minimize(cost)\n",
    "    \n",
    "    hm_epochs = 10\n",
    "    with tf.Session() as sess:\n",
    "        # OLD:\n",
    "        #sess.run(tf.initialize_all_variables())\n",
    "        # NEW:\n",
    "        sess.run(tf.global_variables_initializer())\n",
    "\n",
    "        for epoch in range(hm_epochs):\n",
    "            epoch_loss = 0\n",
    "            \n",
    "            i = 0\n",
    "            while i < len(training_one):\n",
    "                start = i\n",
    "                end = i+batch_size\n",
    "                batch_one = numpy.array(training_one[start:end])\n",
    "                batch_two = numpy.array(training_two[start:end])\n",
    "                \n",
    "                _, c = sess.run([optimizer, cost], feed_dict={x: batch_one, y: batch_two})\n",
    "                epoch_loss += c\n",
    "                i += batch_size\n",
    "\n",
    "            print('Epoch', epoch+1, 'completed out of',hm_epochs,'loss:',epoch_loss)\n",
    "\n",
    "        correct = tf.equal(tf.argmax(prediction, 1), tf.argmax(y, 1))\n",
    "\n",
    "        accuracy = tf.reduce_mean(tf.cast(correct, 'float'))\n",
    "        print('Accuracy:',accuracy.eval({x:testing_one, y:testing_two}))\n",
    "\n",
    "train_neural_network(x)"
   ]
  },
  {
   "cell_type": "code",
   "execution_count": null,
   "metadata": {},
   "outputs": [],
   "source": []
  }
 ],
 "metadata": {
  "kernelspec": {
   "display_name": "Python 3",
   "language": "python",
   "name": "python3"
  },
  "language_info": {
   "codemirror_mode": {
    "name": "ipython",
    "version": 2
   },
   "file_extension": ".py",
   "mimetype": "text/x-python",
   "name": "python",
   "nbconvert_exporter": "python",
   "pygments_lexer": "ipython2",
   "version": "2.7.12"
  }
 },
 "nbformat": 4,
 "nbformat_minor": 2
}
