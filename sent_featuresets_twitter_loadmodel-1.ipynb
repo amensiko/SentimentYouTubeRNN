{
 "cells": [
  {
   "cell_type": "markdown",
   "metadata": {},
   "source": [
    "# Sentiment Analysis - Twitter"
   ]
  },
  {
   "cell_type": "code",
   "execution_count": 1,
   "metadata": {},
   "outputs": [
    {
     "name": "stderr",
     "output_type": "stream",
     "text": [
      "/usr/local/lib/python2.7/dist-packages/ggplot/utils.py:81: FutureWarning: pandas.tslib is deprecated and will be removed in a future version.\n",
      "You can access Timestamp as pandas.Timestamp\n",
      "  pd.tslib.Timestamp,\n",
      "/usr/local/lib/python2.7/dist-packages/ggplot/stats/smoothers.py:4: FutureWarning: The pandas.lib module is deprecated and will be removed in a future version. These are private functions and can be accessed from pandas._libs.lib instead\n",
      "  from pandas.lib import Timestamp\n",
      "/usr/local/lib/python2.7/dist-packages/statsmodels/compat/pandas.py:56: FutureWarning: The pandas.core.datetools module is deprecated and will be removed in a future version. Please use the pandas.tseries module instead.\n",
      "  from pandas.core import datetools\n",
      "Using TensorFlow backend.\n"
     ]
    }
   ],
   "source": [
    "from __future__ import print_function\n",
    "%matplotlib inline\n",
    "\n",
    "from IPython.display import Image, display\n",
    "from io import BytesIO\n",
    "import matplotlib.pyplot as plt\n",
    "\n",
    "#import nltk\n",
    "#from nltk.tokenize import word_tokenize\n",
    "#from nltk.stem import WordNetLemmatizer\n",
    "\n",
    "#import numpy as numpy\n",
    "import random\n",
    "#import pickle\n",
    "from collections import Counter\n",
    "import codecs\n",
    "import tensorflow as tf\n",
    "import np\n",
    "import time\n",
    "\n",
    "import os\n",
    "from os.path import join, exists\n",
    "\n",
    "import pandas as pd\n",
    "import pydot_ng as pydot\n",
    "import graphviz\n",
    "from ggplot import *\n",
    "\n",
    "from keras.utils.data_utils import get_file\n",
    "from keras.preprocessing.text import Tokenizer\n",
    "from keras.preprocessing import sequence\n",
    "from keras.models import Sequential, load_model\n",
    "from keras.layers import Dense, Embedding, Dropout, Flatten, LSTM\n",
    "from keras.optimizers import RMSprop, Adam, SGD, Adagrad\n",
    "\n",
    "#nltk.download('punkt')\n",
    "#nltk.download('wordnet')\n",
    "#totalLinesToRead = 100\n",
    "#lemmatizer = WordNetLemmatizer()"
   ]
  },
  {
   "cell_type": "markdown",
   "metadata": {},
   "source": [
    "# Data load\n",
    "\n",
    "The first step when building machine learning model is getting your data into the proper form to feed into the model. \n"
   ]
  },
  {
   "cell_type": "code",
   "execution_count": 2,
   "metadata": {},
   "outputs": [],
   "source": [
    "with open('./data/twitter-train-pos', 'r') as f:\n",
    "    positive_train_txt = f.read()\n",
    "with open('./data/twitter-train-neg', 'r') as f:\n",
    "    negative_train_txt = f.read()"
   ]
  },
  {
   "cell_type": "code",
   "execution_count": null,
   "metadata": {},
   "outputs": [],
   "source": []
  },
  {
   "cell_type": "markdown",
   "metadata": {},
   "source": [
    "## Glove\n",
    "Let's assume we will say to all data positive.\n"
   ]
  },
  {
   "cell_type": "code",
   "execution_count": 3,
   "metadata": {},
   "outputs": [
    {
     "name": "stdout",
     "output_type": "stream",
     "text": [
      "Extract ./datasets/glove.6B.300d.txt\n",
      "Embeddings size: 400000\n"
     ]
    }
   ],
   "source": [
    "data_folder = './datasets'\n",
    "glove = 'glove.6B'\n",
    "glove_filename = glove + '.zip'\n",
    "glove_url = 'http://nlp.stanford.edu/data/' + glove_filename\n",
    "embedding_dim = 300\n",
    "glove_loc = join(data_folder, glove_filename)\n",
    "\n",
    "if not exists(glove_loc):\n",
    "    print('Download %s' % glove_filename)\n",
    "    get_file(glove_filename, glove_url, cache_dir='.', extract=True)\n",
    "\n",
    "glove_filename = os.path.join(data_folder, glove + '.' + str(embedding_dim) + 'd.txt')\n",
    "\n",
    "embeddings = {}\n",
    "\n",
    "print('Extract %s' % glove_filename)\n",
    "with open(glove_filename, 'r') as f:\n",
    "    for line in f:\n",
    "        values = line.split(' ')\n",
    "        word = values[0]\n",
    "        embedding = np.asarray(values[1:], dtype='float32')\n",
    "        embeddings[word] = embedding\n",
    "        \n",
    "print('Embeddings size: %d' % len(embeddings))"
   ]
  },
  {
   "cell_type": "code",
   "execution_count": 4,
   "metadata": {},
   "outputs": [
    {
     "name": "stdout",
     "output_type": "stream",
     "text": [
      "The positive data size: 302585\n",
      "The negative data size: 294845\n",
      "Basic/Benchmark Accuracy: 0.506477746347\n"
     ]
    }
   ],
   "source": [
    "from string import punctuation\n",
    "\n",
    "def get_reviews(text):\n",
    "    #all_text = ''.join([c for c in text if c not in punctuation])\n",
    "    reviews = text.split('\\n')\n",
    "    return reviews # TAKE first 1000 to make it fast\n",
    "\n",
    "positive_train = get_reviews(positive_train_txt)\n",
    "negative_train = get_reviews(negative_train_txt)\n",
    "\n",
    "pos_len = len(positive_train)\n",
    "neg_len = len(negative_train)\n",
    "\n",
    "print(\"The positive data size: {}\".format(pos_len))\n",
    "print(\"The negative data size: {}\".format(neg_len))\n",
    "\n",
    "print(\"Basic/Benchmark Accuracy: \" + str(float(pos_len) / (pos_len + neg_len)))\n",
    "\n",
    "positive_label = np.full((pos_len, 2), [1, 0])\n",
    "negative_label = np.full((neg_len, 2), [0, 1])\n",
    "\n",
    "train = np.concatenate((positive_train, negative_train), axis=0)\n",
    "labels = np.concatenate((positive_label, negative_label), axis=0)\n",
    "\n",
    "# shuffle\n",
    "c = np.c_[train.reshape(len(train), -1), labels.reshape(len(labels), -1)]\n",
    "np.random.shuffle(c)\n",
    "\n",
    "train = c[:, :train.size//len(train)].reshape(train.shape)\n",
    "labels = c[:, train.size//len(train):].reshape(labels.shape)\n",
    "\n",
    "del c\n",
    "del positive_label\n",
    "del negative_label\n",
    "del positive_train_txt\n",
    "del negative_train_txt"
   ]
  },
  {
   "cell_type": "code",
   "execution_count": 5,
   "metadata": {},
   "outputs": [
    {
     "name": "stdout",
     "output_type": "stream",
     "text": [
      "Found 348605 unique tokens.\n"
     ]
    }
   ],
   "source": [
    "tokenizer = Tokenizer()\n",
    "tokenizer.fit_on_texts(train)\n",
    "train_ints = tokenizer.texts_to_sequences(train)\n",
    "word_index = tokenizer.word_index\n",
    "\n",
    "print('Found %s unique tokens.' % len(word_index))"
   ]
  },
  {
   "cell_type": "code",
   "execution_count": 6,
   "metadata": {},
   "outputs": [],
   "source": [
    "from collections import defaultdict\n",
    "NUM_WORDS = len(embeddings)\n",
    "words_len = min(NUM_WORDS, len(word_index))\n",
    "word_embedding_matrix = np.random.random((words_len + 1, embedding_dim))\n",
    "k = 0\n",
    "for word, i in word_index.items():\n",
    "    if i >= NUM_WORDS:\n",
    "        continue\n",
    "    embedding_vector = embeddings.get(word)\n",
    "    if embedding_vector is not None:\n",
    "        word_embedding_matrix[i] = embedding_vector\n",
    "        k += 1\n",
    "        \n",
    "del embeddings"
   ]
  },
  {
   "cell_type": "code",
   "execution_count": 7,
   "metadata": {},
   "outputs": [
    {
     "name": "stdout",
     "output_type": "stream",
     "text": [
      "Null word embeddings: -1\n",
      "Found 73069\n",
      "Total: 348606\n"
     ]
    }
   ],
   "source": [
    "print('Null word embeddings: %d' % (np.sum(np.sum(word_embedding_matrix, axis=1) == 0) - 1))\n",
    "print('Found %d' % k)\n",
    "print('Total: %d' % len(word_embedding_matrix))"
   ]
  },
  {
   "cell_type": "code",
   "execution_count": 8,
   "metadata": {},
   "outputs": [],
   "source": [
    "seq_len = 15\n",
    "features = sequence.pad_sequences(train_ints, maxlen = seq_len)"
   ]
  },
  {
   "cell_type": "markdown",
   "metadata": {},
   "source": [
    "Couple issues here. We seem to have one review with zero length. And, the maximum review length is way too many steps for our RNN. Let's truncate to 200 steps. For reviews shorter than 200, we'll pad with 0s. For reviews longer than 200, we can truncate them to the first 200 characters."
   ]
  },
  {
   "cell_type": "markdown",
   "metadata": {},
   "source": [
    "Turns out its the final review that has zero length. But that might not always be the case, so let's make it more general.\n"
   ]
  },
  {
   "cell_type": "markdown",
   "metadata": {},
   "source": [
    "# Training, Validation, Test\n",
    "\n",
    "With our data in nice shape, we'll split it into training, validation, and test sets. Do not foget to shuffle it."
   ]
  },
  {
   "cell_type": "code",
   "execution_count": 9,
   "metadata": {},
   "outputs": [],
   "source": [
    "split_idx = int(len(features)*0.8)\n",
    "train_x, val_x = features[:split_idx], features[split_idx:]\n",
    "train_y, val_y = labels[:split_idx], labels[split_idx:]\n",
    "\n",
    "test_idx = int(len(val_x)*0.5)\n",
    "val_x, test_x = val_x[:test_idx], val_x[test_idx:]\n",
    "val_y, test_y = val_y[:test_idx], val_y[test_idx:]"
   ]
  },
  {
   "cell_type": "code",
   "execution_count": 10,
   "metadata": {},
   "outputs": [
    {
     "name": "stdout",
     "output_type": "stream",
     "text": [
      "59743/59743 [==============================] - 25s 412us/step\n",
      "  Test score: 0.521895174845\n",
      "  Test accuracy: 0.744028589318\n"
     ]
    }
   ],
   "source": [
    "batch_size = 20\n",
    "\n",
    "model = load_model('model_15_embedded_drop_0.1_twitter.h5')\n",
    "    \n",
    "score, acc = model.evaluate(test_x, test_y,\n",
    "                                batch_size=batch_size)\n",
    "print('  Test score:', score)\n",
    "print('  Test accuracy:', acc)"
   ]
  },
  {
   "cell_type": "code",
   "execution_count": 14,
   "metadata": {},
   "outputs": [
    {
     "name": "stdout",
     "output_type": "stream",
     "text": [
      "[[ 0.48927894  0.51072341]\n",
      " [ 0.04396183  0.95604962]\n",
      " [ 0.2132922   0.78669429]\n",
      " ..., \n",
      " [ 0.1207424   0.8792634 ]\n",
      " [ 0.2262738   0.77370954]\n",
      " [ 0.47910404  0.52091426]]\n"
     ]
    }
   ],
   "source": [
    "classes = model.predict(test_x, batch_size=20)\n",
    "print(classes)"
   ]
  },
  {
   "cell_type": "code",
   "execution_count": 27,
   "metadata": {},
   "outputs": [
    {
     "name": "stdout",
     "output_type": "stream",
     "text": [
      "[1 1 1 ..., 1 1 1]\n",
      "[1 1 1 ..., 1 1 0]\n",
      "positive matched 22187\n",
      "negative matched 22263\n",
      "positive total 30083\n",
      "negative total 29660\n"
     ]
    }
   ],
   "source": [
    "predicted = np.argmax(classes, axis=1)\n",
    "real = np.argmax(test_y, axis=1)\n",
    "\n",
    "#print(predicted)\n",
    "#print(real)\n",
    "\n",
    "pos = 0\n",
    "neg = 0\n",
    "\n",
    "for i in xrange(len(predicted)):\n",
    "    if predicted[i] == real[i]:\n",
    "        if predicted[i] == 1:\n",
    "            pos += 1\n",
    "        else:\n",
    "            neg += 1\n",
    "            \n",
    "print(\"positive matched \" + str(pos))\n",
    "print(\"negative matched \" + str(neg))\n",
    "\n",
    "#(predicted == real).all()\n",
    "\n",
    "len(classes)\n",
    "\n",
    "total_pos = 0\n",
    "total_neg = 0\n",
    "\n",
    "for i in xrange(len(predicted)):\n",
    "    if predicted[i] == 1:\n",
    "        total_pos += 1\n",
    "    else:\n",
    "        total_neg += 1\n",
    "        \n",
    "print(\"positive total \" + str(total_pos))\n",
    "print(\"negative total \" + str(total_neg))\n"
   ]
  },
  {
   "cell_type": "code",
   "execution_count": 36,
   "metadata": {},
   "outputs": [
    {
     "data": {
      "image/png": "[encoded data removed]",
      "text/plain": [
       "<matplotlib.figure.Figure at 0x7fc23a49d250>"
      ]
     },
     "metadata": {},
     "output_type": "display_data"
    },
    {
     "data": {
      "text/plain": [
       "<matplotlib.figure.Figure at 0x7fc23a5eb610>"
      ]
     },
     "metadata": {},
     "output_type": "display_data"
    }
   ],
   "source": [
    "import np\n",
    "import matplotlib.pyplot as plt\n",
    "\n",
    "N = 1\n",
    "total_pos = (30083)\n",
    "#men_std = (2, 3)\n",
    "\n",
    "ind = np.arange(N)  # the x locations for the groups\n",
    "width = 0.15       # the width of the bars\n",
    "\n",
    "fig, ax = plt.subplots()\n",
    "rects1 = ax.bar(ind, total_pos, width, color='r', yerr=0)\n",
    "\n",
    "total_neg = (29660)\n",
    "#women_std = (3, 5)\n",
    "rects2 = ax.bar(ind + width, total_neg, width, color='b', yerr=0)\n",
    "\n",
    "# add some text for labels, title and axes ticks\n",
    "ax.set_ylabel('# of tweets')\n",
    "ax.set_title('Twitter model test results')\n",
    "ax.set_xticks(ind + width / 2)\n",
    "ax.set_xticklabels(('S'))\n",
    "\n",
    "ax.legend((rects1[0], rects2[0]), ('Positive', 'Negative'))\n",
    "\n",
    "plt.tight_layout()\n",
    "\n",
    "plt.show()\n",
    "\n",
    "plt.savefig('twitterplot.png')"
   ]
  },
  {
   "cell_type": "code",
   "execution_count": 35,
   "metadata": {},
   "outputs": [
    {
     "ename": "NameError",
     "evalue": "name 'models' is not defined",
     "output_type": "error",
     "traceback": [
      "\u001b[0;31m\u001b[0m",
      "\u001b[0;31mNameError\u001b[0mTraceback (most recent call last)",
      "\u001b[0;32m<ipython-input-35-2453a4b25ea1>\u001b[0m in \u001b[0;36m<module>\u001b[0;34m()\u001b[0m\n\u001b[1;32m     27\u001b[0m \u001b[0max5\u001b[0m\u001b[0;34m.\u001b[0m\u001b[0mset_ylabel\u001b[0m\u001b[0;34m(\u001b[0m\u001b[0;34m'Seconds'\u001b[0m\u001b[0;34m)\u001b[0m\u001b[0;34m\u001b[0m\u001b[0m\n\u001b[1;32m     28\u001b[0m \u001b[0;34m\u001b[0m\u001b[0m\n\u001b[0;32m---> 29\u001b[0;31m \u001b[0;32mfor\u001b[0m \u001b[0mmode\u001b[0m\u001b[0;34m,\u001b[0m \u001b[0mresult\u001b[0m \u001b[0;32min\u001b[0m \u001b[0mzip\u001b[0m\u001b[0;34m(\u001b[0m\u001b[0mmodels\u001b[0m\u001b[0;34m,\u001b[0m \u001b[0mresults\u001b[0m\u001b[0;34m)\u001b[0m\u001b[0;34m:\u001b[0m\u001b[0;34m\u001b[0m\u001b[0m\n\u001b[0m\u001b[1;32m     30\u001b[0m     \u001b[0max1\u001b[0m\u001b[0;34m.\u001b[0m\u001b[0mplot\u001b[0m\u001b[0;34m(\u001b[0m\u001b[0mresult\u001b[0m\u001b[0;34m[\u001b[0m\u001b[0;36m0\u001b[0m\u001b[0;34m]\u001b[0m\u001b[0;34m.\u001b[0m\u001b[0mepoch\u001b[0m\u001b[0;34m,\u001b[0m \u001b[0mresult\u001b[0m\u001b[0;34m[\u001b[0m\u001b[0;36m0\u001b[0m\u001b[0;34m]\u001b[0m\u001b[0;34m.\u001b[0m\u001b[0mhistory\u001b[0m\u001b[0;34m[\u001b[0m\u001b[0;34m'acc'\u001b[0m\u001b[0;34m]\u001b[0m\u001b[0;34m,\u001b[0m \u001b[0mlabel\u001b[0m\u001b[0;34m=\u001b[0m\u001b[0mmode\u001b[0m\u001b[0;34m)\u001b[0m\u001b[0;34m\u001b[0m\u001b[0m\n\u001b[1;32m     31\u001b[0m     \u001b[0max2\u001b[0m\u001b[0;34m.\u001b[0m\u001b[0mplot\u001b[0m\u001b[0;34m(\u001b[0m\u001b[0mresult\u001b[0m\u001b[0;34m[\u001b[0m\u001b[0;36m0\u001b[0m\u001b[0;34m]\u001b[0m\u001b[0;34m.\u001b[0m\u001b[0mepoch\u001b[0m\u001b[0;34m,\u001b[0m \u001b[0mresult\u001b[0m\u001b[0;34m[\u001b[0m\u001b[0;36m0\u001b[0m\u001b[0;34m]\u001b[0m\u001b[0;34m.\u001b[0m\u001b[0mhistory\u001b[0m\u001b[0;34m[\u001b[0m\u001b[0;34m'loss'\u001b[0m\u001b[0;34m]\u001b[0m\u001b[0;34m,\u001b[0m \u001b[0mlabel\u001b[0m\u001b[0;34m=\u001b[0m\u001b[0mmode\u001b[0m\u001b[0;34m)\u001b[0m\u001b[0;34m\u001b[0m\u001b[0m\n",
      "\u001b[0;31mNameError\u001b[0m: name 'models' is not defined"
     ]
    },
    {
     "data": {
      "image/png": "[encoded data removed]",
      "text/plain": [
       "<matplotlib.figure.Figure at 0x7fc23a615550>"
      ]
     },
     "metadata": {},
     "output_type": "display_data"
    }
   ],
   "source": [
    "\n",
    "plt.style.use('ggplot')\n",
    "plt.figure(figsize=(14, 10))#, dpi=100)\n",
    "\n",
    "ax1 = plt.subplot2grid((3, 2), (0, 0))\n",
    "ax1.set_title('Training Accuracy')\n",
    "ax1.set_ylabel('Accuracy')\n",
    "ax1.set_xlabel('Epochs')\n",
    "\n",
    "ax2 = plt.subplot2grid((3, 2), (1, 0))\n",
    "ax2.set_title('Training Loss')\n",
    "ax2.set_ylabel('Loss')\n",
    "ax2.set_xlabel('Epochs')\n",
    "\n",
    "ax3 = plt.subplot2grid((3, 2), (0, 1))\n",
    "ax3.set_title('Validation Accuracy')\n",
    "ax3.set_ylabel('Accuracy')\n",
    "ax3.set_xlabel('Epochs')\n",
    "\n",
    "ax4 = plt.subplot2grid((3, 2), (1, 1))\n",
    "ax4.set_title('Validation Loss')\n",
    "ax4.set_ylabel('Loss')\n",
    "ax4.set_xlabel('Epochs')\n",
    "\n",
    "ax5 = plt.subplot2grid((3, 2), (2, 0), rowspan=1, colspan=2)\n",
    "ax5.set_title('Time')\n",
    "ax5.set_ylabel('Seconds')\n",
    "\n",
    "for mode, result in zip(models, results):\n",
    "    ax1.plot(result[0].epoch, result[0].history['acc'], label=mode)\n",
    "    ax2.plot(result[0].epoch, result[0].history['loss'], label=mode)\n",
    "    ax3.plot(result[0].epoch, result[0].history['val_acc'], label=mode)\n",
    "    ax4.plot(result[0].epoch, result[0].history['val_loss'], label=mode)\n",
    "    \n",
    "ax1.legend()\n",
    "ax2.legend()\n",
    "\n",
    "ax3.legend()\n",
    "ax4.legend()\n",
    "\n",
    "ax5.bar(np.arange(len(results)), [x[1] for x in results], tick_label = models.keys(), align='center')\n",
    "\n",
    "plt.tight_layout()\n",
    "plt.show()"
   ]
  },
  {
   "cell_type": "code",
   "execution_count": null,
   "metadata": {},
   "outputs": [],
   "source": []
  }
 ],
 "metadata": {
  "kernelspec": {
   "display_name": "Python 2",
   "language": "python",
   "name": "python2"
  },
  "language_info": {
   "codemirror_mode": {
    "name": "ipython",
    "version": 2
   },
   "file_extension": ".py",
   "mimetype": "text/x-python",
   "name": "python",
   "nbconvert_exporter": "python",
   "pygments_lexer": "ipython2",
   "version": "2.7.12"
  }
 },
 "nbformat": 4,
 "nbformat_minor": 2
}
