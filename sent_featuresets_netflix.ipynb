{
 "cells": [
  {
   "cell_type": "markdown",
   "metadata": {},
   "source": [
    "# Sentiment Analysis"
   ]
  },
  {
   "cell_type": "code",
   "execution_count": 42,
   "metadata": {},
   "outputs": [],
   "source": [
    "from __future__ import print_function\n",
    "%matplotlib inline\n",
    "\n",
    "from IPython.display import Image, display\n",
    "from io import BytesIO\n",
    "import matplotlib.pyplot as plt\n",
    "\n",
    "#import nltk\n",
    "#from nltk.tokenize import word_tokenize\n",
    "#from nltk.stem import WordNetLemmatizer\n",
    "\n",
    "#import numpy as numpy\n",
    "import random\n",
    "#import pickle\n",
    "from collections import Counter\n",
    "import codecs\n",
    "import tensorflow as tf\n",
    "import np\n",
    "import time\n",
    "\n",
    "import os\n",
    "from os.path import join, exists\n",
    "\n",
    "import pandas as pd\n",
    "import pydot_ng as pydot\n",
    "import graphviz\n",
    "from ggplot import *\n",
    "\n",
    "from keras.utils.data_utils import get_file\n",
    "from keras.preprocessing.text import Tokenizer\n",
    "from keras.preprocessing import sequence\n",
    "from keras.models import Sequential\n",
    "from keras.layers import Dense, Embedding, Dropout, Flatten, LSTM\n",
    "from keras.optimizers import RMSprop, Adam, SGD, Adagrad\n",
    "\n",
    "#nltk.download('punkt')\n",
    "#nltk.download('wordnet')\n",
    "#totalLinesToRead = 100\n",
    "#lemmatizer = WordNetLemmatizer()"
   ]
  },
  {
   "cell_type": "markdown",
   "metadata": {},
   "source": [
    "# Data load\n",
    "\n",
    "The first step when building machine learning model is getting your data into the proper form to feed into the model. \n"
   ]
  },
  {
   "cell_type": "code",
   "execution_count": 43,
   "metadata": {},
   "outputs": [],
   "source": [
    "with open('./data/netflix-train-pos', 'r') as f:\n",
    "    positive_train_txt = f.read()\n",
    "with open('./data/netflix-train-neg', 'r') as f:\n",
    "    negative_train_txt = f.read()"
   ]
  },
  {
   "cell_type": "code",
   "execution_count": 44,
   "metadata": {},
   "outputs": [
    {
     "name": "stdout",
     "output_type": "stream",
     "text": [
      "The positive data size: 16855330\n",
      "The negative data size: 16302491\n"
     ]
    }
   ],
   "source": [
    "print(\"The positive data size: {}\".format(len(positive_train_txt)))\n",
    "print(\"The negative data size: {}\".format(len(negative_train_txt)))"
   ]
  },
  {
   "cell_type": "markdown",
   "metadata": {},
   "source": [
    "## Basic prediction\n",
    "Let's assume we will say to all data positive.\n"
   ]
  },
  {
   "cell_type": "code",
   "execution_count": 45,
   "metadata": {},
   "outputs": [
    {
     "name": "stdout",
     "output_type": "stream",
     "text": [
      "Basic/Benchmark Accuracy: 0.50833647965\n"
     ]
    }
   ],
   "source": [
    "print(\"Basic/Benchmark Accuracy: \" + str(float(len(positive_train_txt)) / (len(positive_train_txt) + len(negative_train_txt))))"
   ]
  },
  {
   "cell_type": "markdown",
   "metadata": {},
   "source": [
    "# Download GloVe\n"
   ]
  },
  {
   "cell_type": "code",
   "execution_count": 46,
   "metadata": {},
   "outputs": [
    {
     "name": "stdout",
     "output_type": "stream",
     "text": [
      "Extract ./datasets/glove.6B.300d.txt\n",
      "Embeddings size: 400000\n"
     ]
    }
   ],
   "source": [
    "data_folder = './datasets'\n",
    "glove = 'glove.6B'\n",
    "glove_filename = glove + '.zip'\n",
    "glove_url = 'http://nlp.stanford.edu/data/' + glove_filename\n",
    "embedding_dim = 300\n",
    "glove_loc = join(data_folder, glove_filename)\n",
    "\n",
    "if not exists(glove_loc):\n",
    "    print('Download %s' % glove_filename)\n",
    "    get_file(glove_filename, glove_url, cache_dir='.', extract=True)\n",
    "\n",
    "glove_filename = os.path.join(data_folder, glove + '.' + str(embedding_dim) + 'd.txt')\n",
    "\n",
    "embeddings = {}\n",
    "\n",
    "print('Extract %s' % glove_filename)\n",
    "with open(glove_filename, 'r') as f:\n",
    "    for line in f:\n",
    "        values = line.split(' ')\n",
    "        word = values[0]\n",
    "        embedding = np.asarray(values[1:], dtype='float32')\n",
    "        embeddings[word] = embedding\n",
    "        \n",
    "print('Embeddings size: %d' % len(embeddings))"
   ]
  },
  {
   "cell_type": "markdown",
   "metadata": {},
   "source": [
    "# Data preprocessing\n",
    "\n",
    "First, let's remove all punctuation. Then get all the text without the newlines and split it into individual words."
   ]
  },
  {
   "cell_type": "code",
   "execution_count": 47,
   "metadata": {},
   "outputs": [
    {
     "name": "stdout",
     "output_type": "stream",
     "text": [
      "Train shape: \t\t(25000,)\n",
      "Label shape: \t\t(25000, 2)\n"
     ]
    }
   ],
   "source": [
    "from string import punctuation\n",
    "\n",
    "def get_reviews(text):\n",
    "    #all_text = ''.join([c for c in text if c not in punctuation])\n",
    "    reviews = text.split('\\n')\n",
    "    return reviews # TAKE first 1000 to make it fast\n",
    "\n",
    "positive_train = get_reviews(positive_train_txt)\n",
    "negative_train = get_reviews(negative_train_txt)\n",
    "\n",
    "positive_label = np.full((len(positive_train), 2), [1, 0])\n",
    "negative_label = np.full((len(negative_train), 2), [0, 1])\n",
    "\n",
    "train = np.concatenate((positive_train, negative_train), axis=0)\n",
    "labels = np.concatenate((positive_label, negative_label), axis=0)\n",
    "\n",
    "# shuffle\n",
    "c = np.c_[train.reshape(len(train), -1), labels.reshape(len(labels), -1)]\n",
    "np.random.shuffle(c)\n",
    "\n",
    "train = c[:, :train.size//len(train)].reshape(train.shape)\n",
    "labels = c[:, train.size//len(train):].reshape(labels.shape)\n",
    "\n",
    "del c\n",
    "del positive_label\n",
    "del negative_label\n",
    "\n",
    "print(\"Train shape: \\t\\t{}\".format(train.shape))\n",
    "print(\"Label shape: \\t\\t{}\".format(labels.shape))"
   ]
  },
  {
   "cell_type": "markdown",
   "metadata": {},
   "source": [
    "## Encoding the words\n",
    "Create dictinaries that map the words in the vocaulary to integers. Then we can convert each of our reviews into integers sos they can be passed into the network."
   ]
  },
  {
   "cell_type": "code",
   "execution_count": 48,
   "metadata": {},
   "outputs": [
    {
     "name": "stdout",
     "output_type": "stream",
     "text": [
      "Found 88584 unique tokens.\n"
     ]
    }
   ],
   "source": [
    "tokenizer = Tokenizer()\n",
    "tokenizer.fit_on_texts(train)\n",
    "train_ints = tokenizer.texts_to_sequences(train)\n",
    "word_index = tokenizer.word_index\n",
    "\n",
    "print('Found %s unique tokens.' % len(word_index))"
   ]
  },
  {
   "cell_type": "markdown",
   "metadata": {},
   "source": [
    "## Prepare Word Embeddings"
   ]
  },
  {
   "cell_type": "code",
   "execution_count": 50,
   "metadata": {},
   "outputs": [],
   "source": [
    "from collections import defaultdict\n",
    "NUM_WORDS = len(embeddings)\n",
    "words_len = min(NUM_WORDS, len(word_index))\n",
    "word_embedding_matrix = np.random.random((words_len + 1, embedding_dim))\n",
    "k = 0\n",
    "for word, i in word_index.items():\n",
    "    if i >= NUM_WORDS:\n",
    "        continue\n",
    "    embedding_vector = embeddings.get(word)\n",
    "    if embedding_vector is not None:\n",
    "        word_embedding_matrix[i] = embedding_vector\n",
    "        k += 1\n",
    "        \n",
    "del embeddings"
   ]
  },
  {
   "cell_type": "code",
   "execution_count": 51,
   "metadata": {},
   "outputs": [
    {
     "name": "stdout",
     "output_type": "stream",
     "text": [
      "Null word embeddings: -1\n",
      "Found 60150\n",
      "Total: 88585\n"
     ]
    }
   ],
   "source": [
    "print('Null word embeddings: %d' % (np.sum(np.sum(word_embedding_matrix, axis=1) == 0) - 1))\n",
    "print('Found %d' % k)\n",
    "print('Total: %d' % len(word_embedding_matrix))"
   ]
  },
  {
   "cell_type": "markdown",
   "metadata": {},
   "source": [
    "## Sentence length"
   ]
  },
  {
   "cell_type": "code",
   "execution_count": 52,
   "metadata": {},
   "outputs": [
    {
     "data": {
      "image/png": "[encoded data removed]",
      "text/plain": [
       "<matplotlib.figure.Figure at 0x7f6704d20650>"
      ]
     },
     "metadata": {},
     "output_type": "display_data"
    }
   ],
   "source": [
    "from collections import defaultdict\n",
    "\n",
    "max_word_count_text = 0\n",
    "text_count = defaultdict(int)\n",
    "for sentence in train_ints:\n",
    "    max_word_count_text = max(max_word_count_text, len(sentence))\n",
    "    text_count[len(sentence)] += 1\n",
    "    \n",
    "mpl_fig = plt.figure()\n",
    "ax = mpl_fig.add_subplot(111)\n",
    "\n",
    "ax.bar(range(len(text_count)), text_count.values())\n",
    "\n",
    "plt.title(\"Sentence Length Distribution\")\n",
    "plt.xlabel(\"Length\")\n",
    "plt.ylabel(\"Frequency\")\n",
    "plt.show()"
   ]
  },
  {
   "cell_type": "code",
   "execution_count": 53,
   "metadata": {},
   "outputs": [
    {
     "name": "stdout",
     "output_type": "stream",
     "text": [
      "Max word sentence: 2493\n"
     ]
    }
   ],
   "source": [
    "print('Max word sentence: %d' % max_word_count_text)"
   ]
  },
  {
   "cell_type": "markdown",
   "metadata": {},
   "source": [
    "Some issues here. We seem to have one review with zero length. And, the maximum review length is way too many steps for our RNN. Let's truncate to 200 steps. For reviews shorter than 200, we'll pad with 0s. For reviews longer than 200, we can truncate them to the first 200 characters."
   ]
  },
  {
   "cell_type": "markdown",
   "metadata": {},
   "source": [
    "Turns out its the final review that has zero length. But that might not always be the case, so let's make it more general.\n"
   ]
  },
  {
   "cell_type": "code",
   "execution_count": 54,
   "metadata": {},
   "outputs": [],
   "source": [
    "#train_ints = [train_ints[ii] for ii in non_zero_idx]\n",
    "#labels = np.array([labels[ii] for ii in non_zero_idx])"
   ]
  },
  {
   "cell_type": "markdown",
   "metadata": {},
   "source": [
    "Now, create an array features that contains the data we'll pass to the network. The data should come from review_ints, since we want to feed integers to the network. Each row should be 200 elements long. For reviews shorter than 200 words, left pad with 0s. That is, if the review is ['best', 'movie', 'ever'], [117, 18, 128] as integers, the row will look like [0, 0, 0, ..., 0, 117, 18, 128]. For reviews longer than 200, use on the first 200 words as the feature vector."
   ]
  },
  {
   "cell_type": "code",
   "execution_count": 55,
   "metadata": {},
   "outputs": [],
   "source": [
    "seq_len = 100\n",
    "features = sequence.pad_sequences(train_ints, maxlen = seq_len)"
   ]
  },
  {
   "cell_type": "code",
   "execution_count": 56,
   "metadata": {},
   "outputs": [
    {
     "name": "stdout",
     "output_type": "stream",
     "text": [
      "One sample\n",
      "Text: \n",
      "I saw this movie originally in the theater, when I was 10. Even at that age the 'humor' was mildly insulting to my adolescent intelligence.<br /><br />In the past, whenever I would see Ed Begley Jr. or jeff Goldblum I would cringe and start to feel very uncomfortable and even slightly sad. Until I was reminded of the existence of this movie today, I was unsure why I felt that way. Apparently I blocked my memory of this movie yet my negative feelings towards two of the perpetrators remained. Apparently I forgot that I saw this movie but subconsciously mourned the pieces of my soul that had been stolen, nay EATEN by the creators of this inhuman work.<br /><br />I haven't been brave enough to try watching it as an adult. I imagine that as part of the healing process that I should probably look at confronting this childhood fear so that I can *truly* put it behind me. Some regression therapy and / or hypnosis might not be a bad idea either.\n",
      "Word sequence: \n",
      "[10, 216, 11, 17, 1816, 8, 1, 747, 51, 10, 13, 155, 57, 30, 12, 555, 1, 30568, 13, 2781, 3493, 5, 58, 5558, 1656, 7, 7, 8, 1, 498, 1938, 10, 59, 64, 1657, 20598, 1789, 39, 1802, 6627, 10, 59, 4010, 2, 377, 5, 231, 52, 3129, 2, 57, 1072, 614, 363, 10, 13, 1574, 4, 1, 2007, 4, 11, 17, 635, 10, 13, 6192, 135, 10, 417, 12, 93, 681, 10, 16116, 58, 1751, 4, 11, 17, 243, 58, 1559, 1414, 946, 104, 4, 1, 14896, 5171, 681, 10, 2736, 12, 10, 216, 11, 17, 18, 23379, 25242, 1, 1321, 4, 58, 1351, 12, 66, 74, 2576, 16117, 4676, 31, 1, 3657, 4, 11, 13885, 154, 7, 7, 10, 771, 74, 2502, 192, 5, 350, 146, 9, 14, 32, 1155, 10, 835, 12, 14, 170, 4, 1, 8926, 1768, 12, 10, 141, 239, 165, 30, 9259, 11, 1544, 1088, 35, 12, 10, 67, 368, 273, 9, 493, 69, 46, 34701, 7262, 2, 39, 16816, 235, 21, 27, 3, 75, 323, 342]\n",
      "Pad: \n",
      "[16116    58  1751     4    11    17   243    58  1559  1414   946   104\n",
      "     4     1 14896  5171   681    10  2736    12    10   216    11    17\n",
      "    18 23379 25242     1  1321     4    58  1351    12    66    74  2576\n",
      " 16117  4676    31     1  3657     4    11 13885   154     7     7    10\n",
      "   771    74  2502   192     5   350   146     9    14    32  1155    10\n",
      "   835    12    14   170     4     1  8926  1768    12    10   141   239\n",
      "   165    30  9259    11  1544  1088    35    12    10    67   368   273\n",
      "     9   493    69    46 34701  7262     2    39 16816   235    21    27\n",
      "     3    75   323   342]\n",
      "Label: \n",
      "['0' '1']\n"
     ]
    }
   ],
   "source": [
    "\n",
    "print('One sample')\n",
    "\n",
    "print('Text: ')\n",
    "print( train[1] )\n",
    "\n",
    "print('Word sequence: ')\n",
    "print( train_ints[1] )\n",
    "\n",
    "print('Pad: ')\n",
    "print( features[1] )\n",
    "\n",
    "print('Label: ')\n",
    "print( labels[1] )\n",
    "\n",
    "del train"
   ]
  },
  {
   "cell_type": "markdown",
   "metadata": {},
   "source": [
    "# Training, Validation, Test\n",
    "\n",
    "With our data in nice shape, we'll split it into training, validation, and test sets. Do not foget to shuffle it."
   ]
  },
  {
   "cell_type": "code",
   "execution_count": 57,
   "metadata": {},
   "outputs": [
    {
     "name": "stdout",
     "output_type": "stream",
     "text": [
      "\t\t\tFeature Shapes:\n",
      "Train set: \t\t(20000, 100)\n",
      "Validation set: \t(2500, 100)\n",
      "Test set: \t\t(2500, 100)\n",
      "Train lable: \t\t(20000, 2)\n"
     ]
    }
   ],
   "source": [
    "split_idx = int(len(features)*0.8)\n",
    "train_x, val_x = features[:split_idx], features[split_idx:]\n",
    "train_y, val_y = labels[:split_idx], labels[split_idx:]\n",
    "\n",
    "test_idx = int(len(val_x)*0.5)\n",
    "val_x, test_x = val_x[:test_idx], val_x[test_idx:]\n",
    "val_y, test_y = val_y[:test_idx], val_y[test_idx:]\n",
    "\n",
    "print(\"\\t\\t\\tFeature Shapes:\")\n",
    "print(\"Train set: \\t\\t{}\".format(train_x.shape)) \n",
    "print(\"Validation set: \\t{}\".format(val_x.shape))\n",
    "print(\"Test set: \\t\\t{}\".format(test_x.shape))\n",
    "\n",
    "print(\"Train lable: \\t\\t{}\".format(train_y.shape))\n"
   ]
  },
  {
   "cell_type": "markdown",
   "metadata": {},
   "source": [
    "## Create Sentiment Neural Network"
   ]
  },
  {
   "cell_type": "code",
   "execution_count": 58,
   "metadata": {},
   "outputs": [],
   "source": [
    "def createModel(hidden_size, drop_size, output_activation):\n",
    "    model = Sequential()\n",
    "\n",
    "    model.add(Dense(hidden_size, activation='relu', input_dim = seq_len))\n",
    "    \n",
    "    if drop_size > 0.0:\n",
    "        model.add(Dropout(drop_size))\n",
    "\n",
    "    model.add(Dense(hidden_size, activation='relu'))\n",
    "\n",
    "    if drop_size > 0.0:\n",
    "        model.add(Dropout(drop_size))\n",
    "\n",
    "    model.add(Dense(hidden_size, activation='relu'))\n",
    "\n",
    "    if drop_size > 0.0:\n",
    "        model.add(Dropout(drop_size))\n",
    "\n",
    "    model.add(Dense(2, activation=output_activation))\n",
    "\n",
    "    optimizer = Adam(lr=0.001, beta_1=0.9, beta_2=0.999, epsilon=1e-08, decay=0.0)\n",
    "\n",
    "    model.compile(loss = 'binary_crossentropy',\n",
    "                  optimizer = optimizer,\n",
    "                  metrics = ['accuracy'])\n",
    "    return model\n",
    "\n",
    "\n"
   ]
  },
  {
   "cell_type": "code",
   "execution_count": 59,
   "metadata": {},
   "outputs": [],
   "source": [
    "def createEmbeddedModel(hidden_size, drop_size):\n",
    "    model = Sequential()\n",
    "    \n",
    "    model.add(Embedding(words_len + 1,\n",
    "                     embedding_dim,\n",
    "                     weights = [word_embedding_matrix],\n",
    "                     input_length = seq_len,\n",
    "                     trainable = False,\n",
    "                     name = 'embedding'))\n",
    "    if drop_size > 0.0:\n",
    "        model.add(Dropout(drop_size))\n",
    "        \n",
    "    model.add(LSTM(seq_len, dropout=0.2, recurrent_dropout=0.2))\n",
    "    \n",
    "    model.add(Dense(hidden_size, activation='relu', input_dim = seq_len, name=\"hidden_1\"))\n",
    "    \n",
    "    if drop_size > 0.0:\n",
    "        model.add(Dropout(drop_size))\n",
    "\n",
    "    model.add(Dense(hidden_size, activation='relu', name=\"hidden_2\"))\n",
    "\n",
    "    if drop_size > 0.0:\n",
    "        model.add(Dropout(drop_size))\n",
    "\n",
    "    model.add(Dense(hidden_size, activation='relu', name=\"hidden_3\"))\n",
    "\n",
    "    if drop_size > 0.0:\n",
    "        model.add(Dropout(drop_size))\n",
    "        \n",
    "    #model.add(Flatten())  # [[ [1, 2], [2, 2] ], ....]  -> [[ 1, 2, 2, 2], ....]\n",
    "\n",
    "    model.add(Dense(2, activation='softmax', name=\"output\"))\n",
    "\n",
    "    optimizer = Adam(lr=0.001, beta_1=0.9, beta_2=0.999, epsilon=1e-08, decay=0.0)\n",
    "\n",
    "    model.compile(loss = 'binary_crossentropy',\n",
    "                  optimizer = optimizer,\n",
    "                  metrics = ['accuracy'])\n",
    "    return model"
   ]
  },
  {
   "cell_type": "markdown",
   "metadata": {},
   "source": [
    "## Train model"
   ]
  },
  {
   "cell_type": "code",
   "execution_count": 60,
   "metadata": {},
   "outputs": [
    {
     "name": "stdout",
     "output_type": "stream",
     "text": [
      "\n",
      "Start learning model_200_embedded_drop_0_netflix_ALL at 1521742294\n",
      "Epochs: 5\n",
      "Batch size: 20\n",
      "Train on 20000 samples, validate on 2500 samples\n",
      "Epoch 1/5\n",
      "20000/20000 [==============================] - 299s 15ms/step - loss: 0.5201 - acc: 0.7304 - val_loss: 0.4236 - val_acc: 0.8028\n",
      "Epoch 2/5\n",
      "20000/20000 [==============================] - 310s 16ms/step - loss: 0.3805 - acc: 0.8257 - val_loss: 0.3641 - val_acc: 0.8380\n",
      "Epoch 3/5\n",
      "20000/20000 [==============================] - 277s 14ms/step - loss: 0.3341 - acc: 0.8544 - val_loss: 0.3712 - val_acc: 0.8336\n",
      "Epoch 4/5\n",
      "20000/20000 [==============================] - 272s 14ms/step - loss: 0.3007 - acc: 0.8693 - val_loss: 0.3562 - val_acc: 0.8472\n",
      "Epoch 5/5\n",
      "20000/20000 [==============================] - 219s 11ms/step - loss: 0.2682 - acc: 0.8856 - val_loss: 0.3557 - val_acc: 0.8468\n",
      "Time: 1380\n"
     ]
    }
   ],
   "source": [
    "batch_size = 20\n",
    "epochs = 5\n",
    "\n",
    "models = {}\n",
    "\n",
    "#models['model_200_drop_0.1_softmax'] = createModel(200, 0.1, 'softmax')\n",
    "#models['model_200_drop_0.1_sigmoid'] = createModel(200, 0.1, 'sigmoid')\n",
    "\n",
    "#models['model_400_drop_0.1'] = createModel(400, 0.1)\n",
    "#models['model_600_drop_0.1'] = createModel(600, 0.1)\n",
    "#models['model_200_no_drop'] = createModel(200, 0)\n",
    "#models['model_400_no_drop'] = createModel(400, 0)\n",
    "#models['model_600_no_drop'] = createModel(600, 0)\n",
    "\n",
    "models['model_200_embedded_drop_0_netflix_ALL'] = createEmbeddedModel(200, 0)\n",
    "\n",
    "results = []\n",
    "for name, model in models.items():  \n",
    "    start_time = time.time()\n",
    "    print('')\n",
    "    print('Start learning %s at %d' % (name, start_time))\n",
    "    print('Epochs: %d' % epochs)\n",
    "    print('Batch size: %d' % batch_size)\n",
    "\n",
    "    history = model.fit(train_x, train_y,\n",
    "              batch_size = batch_size,\n",
    "              epochs = epochs,\n",
    "              validation_data=(val_x, val_y))\n",
    "\n",
    "    end_time = time.time()\n",
    "    average_time_per_epoch = (end_time - start_time) / epochs\n",
    "    results.append((history, average_time_per_epoch))\n",
    "    print('Time: %d' % (end_time - start_time))"
   ]
  },
  {
   "cell_type": "code",
   "execution_count": 61,
   "metadata": {},
   "outputs": [],
   "source": [
    "model.save('model_100_embedded_drop_0_netflix_ALL.h5')"
   ]
  },
  {
   "cell_type": "code",
   "execution_count": 62,
   "metadata": {},
   "outputs": [
    {
     "name": "stdout",
     "output_type": "stream",
     "text": [
      "2500/2500 [==============================] - 11s 4ms/step\n",
      "Model: model_200_embedded_drop_0_netflix_ALL\n",
      "  Test score: 0.305043537796\n",
      "  Test accuracy: 0.866400000095\n"
     ]
    }
   ],
   "source": [
    "for name, model in models.items():  \n",
    "    \n",
    "    score, acc = model.evaluate(test_x, test_y,\n",
    "                                batch_size=batch_size)\n",
    "    print('Model:', name)\n",
    "    print('  Test score:', score)\n",
    "    print('  Test accuracy:', acc)"
   ]
  },
  {
   "cell_type": "markdown",
   "metadata": {},
   "source": [
    "# Training Results"
   ]
  },
  {
   "cell_type": "code",
   "execution_count": 63,
   "metadata": {},
   "outputs": [
    {
     "data": {
      "image/png": "[encoded data removed]",
      "text/plain": [
       "<matplotlib.figure.Figure at 0x7f670a575d50>"
      ]
     },
     "metadata": {},
     "output_type": "display_data"
    }
   ],
   "source": [
    "\n",
    "plt.style.use('ggplot')\n",
    "plt.figure(figsize=(14, 10))#, dpi=100)\n",
    "\n",
    "ax1 = plt.subplot2grid((3, 2), (0, 0))\n",
    "ax1.set_title('Training Accuracy')\n",
    "ax1.set_ylabel('Accuracy')\n",
    "ax1.set_xlabel('Epochs')\n",
    "\n",
    "ax2 = plt.subplot2grid((3, 2), (1, 0))\n",
    "ax2.set_title('Training Loss')\n",
    "ax2.set_ylabel('Loss')\n",
    "ax2.set_xlabel('Epochs')\n",
    "\n",
    "ax3 = plt.subplot2grid((3, 2), (0, 1))\n",
    "ax3.set_title('Validation Accuracy')\n",
    "ax3.set_ylabel('Accuracy')\n",
    "ax3.set_xlabel('Epochs')\n",
    "\n",
    "ax4 = plt.subplot2grid((3, 2), (1, 1))\n",
    "ax4.set_title('Validation Loss')\n",
    "ax4.set_ylabel('Loss')\n",
    "ax4.set_xlabel('Epochs')\n",
    "\n",
    "ax5 = plt.subplot2grid((3, 2), (2, 0), rowspan=1, colspan=2)\n",
    "ax5.set_title('Time')\n",
    "ax5.set_ylabel('Seconds')\n",
    "\n",
    "for mode, result in zip(models, results):\n",
    "    ax1.plot(result[0].epoch, result[0].history['acc'], label=mode)\n",
    "    ax2.plot(result[0].epoch, result[0].history['loss'], label=mode)\n",
    "    ax3.plot(result[0].epoch, result[0].history['val_acc'], label=mode)\n",
    "    ax4.plot(result[0].epoch, result[0].history['val_loss'], label=mode)\n",
    "    \n",
    "ax1.legend()\n",
    "ax2.legend()\n",
    "\n",
    "ax3.legend()\n",
    "ax4.legend()\n",
    "\n",
    "ax5.bar(np.arange(len(results)), [x[1] for x in results], tick_label = models.keys(), align='center')\n",
    "\n",
    "plt.tight_layout()\n",
    "plt.show()"
   ]
  },
  {
   "cell_type": "code",
   "execution_count": 64,
   "metadata": {},
   "outputs": [
    {
     "name": "stdout",
     "output_type": "stream",
     "text": [
      "[[ 0.94268298  0.05731701]\n",
      " [ 0.99896383  0.00103612]\n",
      " [ 0.02653761  0.9734624 ]\n",
      " ..., \n",
      " [ 0.59167725  0.40832281]\n",
      " [ 0.99164683  0.00835326]\n",
      " [ 0.1524141   0.84758586]]\n"
     ]
    }
   ],
   "source": [
    "for name, model in models.items():\n",
    "    classes = model.predict(test_x, batch_size=20)\n",
    "    \n",
    "print(classes)"
   ]
  },
  {
   "cell_type": "code",
   "execution_count": 65,
   "metadata": {},
   "outputs": [
    {
     "name": "stdout",
     "output_type": "stream",
     "text": [
      "positive matched 1090\n",
      "negative matched 1076\n",
      "positive total 1260\n",
      "negative total 1240\n"
     ]
    }
   ],
   "source": [
    "predicted = np.argmax(classes, axis=1)\n",
    "real = np.argmax(test_y, axis=1)\n",
    "\n",
    "#print(predicted)\n",
    "#print(real)\n",
    "\n",
    "pos = 0\n",
    "neg = 0\n",
    "\n",
    "for i in xrange(len(predicted)):\n",
    "    if predicted[i] == real[i]:\n",
    "        if predicted[i] == 1:\n",
    "            pos += 1\n",
    "        else:\n",
    "            neg += 1\n",
    "            \n",
    "print(\"positive matched \" + str(pos))\n",
    "print(\"negative matched \" + str(neg))\n",
    "\n",
    "#(predicted == real).all()\n",
    "\n",
    "len(classes)\n",
    "\n",
    "total_pos = 0\n",
    "total_neg = 0\n",
    "\n",
    "for i in xrange(len(predicted)):\n",
    "    if predicted[i] == 1:\n",
    "        total_pos += 1\n",
    "    else:\n",
    "        total_neg += 1\n",
    "        \n",
    "print(\"positive total \" + str(total_pos))\n",
    "print(\"negative total \" + str(total_neg))"
   ]
  },
  {
   "cell_type": "code",
   "execution_count": null,
   "metadata": {},
   "outputs": [],
   "source": []
  }
 ],
 "metadata": {
  "kernelspec": {
   "display_name": "Python 2",
   "language": "python",
   "name": "python2"
  },
  "language_info": {
   "codemirror_mode": {
    "name": "ipython",
    "version": 2
   },
   "file_extension": ".py",
   "mimetype": "text/x-python",
   "name": "python",
   "nbconvert_exporter": "python",
   "pygments_lexer": "ipython2",
   "version": "2.7.12"
  }
 },
 "nbformat": 4,
 "nbformat_minor": 2
}
