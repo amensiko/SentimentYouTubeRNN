{
 "cells": [
  {
   "cell_type": "code",
   "execution_count": 20,
   "metadata": {},
   "outputs": [
    {
     "name": "stdout",
     "output_type": "stream",
     "text": [
      "[nltk_data] Downloading package punkt to /root/nltk_data...\n",
      "[nltk_data]   Package punkt is already up-to-date!\n",
      "[nltk_data] Downloading package wordnet to /root/nltk_data...\n",
      "[nltk_data]   Package wordnet is already up-to-date!\n"
     ]
    }
   ],
   "source": [
    "import nltk\n",
    "from nltk.tokenize import word_tokenize\n",
    "from nltk.stem import WordNetLemmatizer\n",
    "import numpy as numpy\n",
    "import random\n",
    "import pickle\n",
    "from collections import Counter\n",
    "import codecs\n",
    "import tensorflow as tf\n",
    "\n",
    "nltk.download('punkt')\n",
    "nltk.download('wordnet')\n",
    "\n",
    "totalLinesToRead = 100\n",
    "lemmatizer = WordNetLemmatizer()"
   ]
  },
  {
   "cell_type": "markdown",
   "metadata": {},
   "source": [
    "# Get lemmas"
   ]
  },
  {
   "cell_type": "code",
   "execution_count": 21,
   "metadata": {},
   "outputs": [],
   "source": [
    "def lematizeFile(fileName):\n",
    "    lex = []\n",
    "    with open(fileName, 'r') as f:\n",
    "        contains = f.readlines()\n",
    "        for line in contains[:totalLinesToRead]:\n",
    "            words = word_tokenize(line.decode('utf-8', 'replace'))\n",
    "            lex += list(words)\n",
    "    return [lemmatizer.lemmatize(i) for i in lex]"
   ]
  },
  {
   "cell_type": "code",
   "execution_count": 22,
   "metadata": {},
   "outputs": [],
   "source": [
    "positiveLemmas = lematizeFile('./data/netflix-train-pos')\n",
    "negativeLemmas = lematizeFile('./data/netflix-train-neg')"
   ]
  },
  {
   "cell_type": "code",
   "execution_count": 23,
   "metadata": {},
   "outputs": [
    {
     "name": "stdout",
     "output_type": "stream",
     "text": [
      "First lemma I\n"
     ]
    }
   ],
   "source": [
    "print(\"First lemma \" + positiveLemmas[0])"
   ]
  },
  {
   "cell_type": "code",
   "execution_count": 24,
   "metadata": {},
   "outputs": [
    {
     "name": "stdout",
     "output_type": "stream",
     "text": [
      "Positive lemmas: 29612\n",
      "Negative lemmas: 27430\n"
     ]
    }
   ],
   "source": [
    "print(\"Positive lemmas: \" + str(len(positiveLemmas)))\n",
    "print(\"Negative lemmas: \" + str(len(negativeLemmas)))"
   ]
  },
  {
   "cell_type": "code",
   "execution_count": 25,
   "metadata": {},
   "outputs": [],
   "source": [
    "lemmas = positiveLemmas + negativeLemmas"
   ]
  },
  {
   "cell_type": "markdown",
   "metadata": {},
   "source": [
    "# Lemmatize (take words repeats 50 < count < 1000)"
   ]
  },
  {
   "cell_type": "code",
   "execution_count": 26,
   "metadata": {},
   "outputs": [],
   "source": [
    "words = Counter(lemmas)\n",
    "vocabulary = []\n",
    "for word in words:\n",
    "    if 50 < words[word] < 1000:\n",
    "            vocabulary.append(word)"
   ]
  },
  {
   "cell_type": "code",
   "execution_count": 27,
   "metadata": {},
   "outputs": [
    {
     "name": "stdout",
     "output_type": "stream",
     "text": [
      "Vocabulary: 131\n",
      "Sample: how\n"
     ]
    }
   ],
   "source": [
    "print(\"Vocabulary: \" + str(len(vocabulary)))\n",
    "print(\"Sample: \" + vocabulary[0])"
   ]
  },
  {
   "cell_type": "markdown",
   "metadata": {},
   "source": [
    "# Make One Hot Encoding features"
   ]
  },
  {
   "cell_type": "code",
   "execution_count": 28,
   "metadata": {},
   "outputs": [],
   "source": [
    "def samples(classif, lex, section):\n",
    "    features = []\n",
    "    with open(section, 'r') as file1:\n",
    "        contents = file1.readlines()\n",
    "        for line in contents[:totalLinesToRead]:\n",
    "            words = word_tokenize(line.decode('utf-8', 'replace').lower())\n",
    "            words = [lemmatizer.lemmatize(i) for i in words]\n",
    "            feats = numpy.zeros(len(lex))\n",
    "            for w in words:\n",
    "                if w.lower() in lex:\n",
    "                    index = lex.index(w.lower())\n",
    "                    feats[index] += 1\n",
    "            feats = list(feats)\n",
    "            features.append([feats, classif])\n",
    "            \n",
    "    return features"
   ]
  },
  {
   "cell_type": "code",
   "execution_count": 29,
   "metadata": {},
   "outputs": [],
   "source": [
    "positive_features = samples([1,0], vocabulary, './data/netflix-train-pos')\n",
    "negative_features = samples([0,1], vocabulary, './data/netflix-train-neg')"
   ]
  },
  {
   "cell_type": "code",
   "execution_count": 30,
   "metadata": {},
   "outputs": [
    {
     "name": "stdout",
     "output_type": "stream",
     "text": [
      "Positive features size: 100\n",
      "Negative features size: 100\n"
     ]
    }
   ],
   "source": [
    "print(\"Positive features size: \" + str(len(positive_features)))\n",
    "print(\"Negative features size: \" + str(len(negative_features)))"
   ]
  },
  {
   "cell_type": "markdown",
   "metadata": {},
   "source": [
    "## Create feature list and shuffle it"
   ]
  },
  {
   "cell_type": "code",
   "execution_count": 31,
   "metadata": {},
   "outputs": [],
   "source": [
    "testRation=0.1\n",
    "\n",
    "features = positive_features + negative_features\n",
    "random.shuffle(features)\n",
    "features = np.array(features)\n",
    "\n",
    "testSize = int(len(features)*testRation)\n",
    "\n",
    "training_positive = list(features[:,0][:-testSize])\n",
    "training_negative = list(features[:,1][:-testSize])\n",
    "\n",
    "testing_positive = list(features[:,0][-testSize:])\n",
    "testing_negative = list(features[:,1][-testSize:])"
   ]
  },
  {
   "cell_type": "markdown",
   "metadata": {},
   "source": [
    "## Save to Pickle"
   ]
  },
  {
   "cell_type": "code",
   "execution_count": 32,
   "metadata": {},
   "outputs": [],
   "source": [
    "with open('sentiment_set.pickle', 'wb') as f:\n",
    "    pickle.dump([training_positive, training_negative, testing_positive, testing_negative], f)"
   ]
  },
  {
   "cell_type": "markdown",
   "metadata": {},
   "source": [
    "## Create Sentiment Neural Network"
   ]
  },
  {
   "cell_type": "code",
   "execution_count": 33,
   "metadata": {},
   "outputs": [
    {
     "name": "stdout",
     "output_type": "stream",
     "text": [
      "('Epoch', 1, 'completed out of', 10, 'loss:', 67842.4140625)\n",
      "('Epoch', 2, 'completed out of', 10, 'loss:', 49319.125)\n",
      "('Epoch', 3, 'completed out of', 10, 'loss:', 34726.078125)\n",
      "('Epoch', 4, 'completed out of', 10, 'loss:', 25761.6884765625)\n",
      "('Epoch', 5, 'completed out of', 10, 'loss:', 20273.4462890625)\n",
      "('Epoch', 6, 'completed out of', 10, 'loss:', 15916.265625)\n",
      "('Epoch', 7, 'completed out of', 10, 'loss:', 12739.115234375)\n",
      "('Epoch', 8, 'completed out of', 10, 'loss:', 9564.52001953125)\n",
      "('Epoch', 9, 'completed out of', 10, 'loss:', 6771.039306640625)\n",
      "('Epoch', 10, 'completed out of', 10, 'loss:', 4458.547119140625)\n",
      "('Accuracy:', 0.55000001)\n"
     ]
    }
   ],
   "source": [
    "n_nodes_hl1 = 500\n",
    "n_nodes_hl2 = 500\n",
    "n_nodes_hl3 = 500\n",
    "\n",
    "n_classes = 2\n",
    "batch_size = 100\n",
    "\n",
    "x = tf.placeholder('float', [None, len(training_positive[0])])\n",
    "y = tf.placeholder('float')\n",
    "\n",
    "def neural_network_model(data):\n",
    "    hidden_1_layer = {'weights':tf.Variable(tf.random_normal([len(training_positive[0]), n_nodes_hl1])),\n",
    "                      'biases':tf.Variable(tf.random_normal([n_nodes_hl1]))}\n",
    "\n",
    "    hidden_2_layer = {'weights':tf.Variable(tf.random_normal([n_nodes_hl1, n_nodes_hl2])),\n",
    "                      'biases':tf.Variable(tf.random_normal([n_nodes_hl2]))}\n",
    "\n",
    "    hidden_3_layer = {'weights':tf.Variable(tf.random_normal([n_nodes_hl2, n_nodes_hl3])),\n",
    "                      'biases':tf.Variable(tf.random_normal([n_nodes_hl3]))}\n",
    "\n",
    "    output_layer = {'weights':tf.Variable(tf.random_normal([n_nodes_hl3, n_classes])),\n",
    "                    'biases':tf.Variable(tf.random_normal([n_classes])),}\n",
    "\n",
    "\n",
    "    l1 = tf.add(tf.matmul(data,hidden_1_layer['weights']), hidden_1_layer['biases'])\n",
    "    l1 = tf.nn.relu(l1)\n",
    "\n",
    "    l2 = tf.add(tf.matmul(l1,hidden_2_layer['weights']), hidden_2_layer['biases'])\n",
    "    l2 = tf.nn.relu(l2)\n",
    "\n",
    "    l3 = tf.add(tf.matmul(l2,hidden_3_layer['weights']), hidden_3_layer['biases'])\n",
    "    l3 = tf.nn.relu(l3)\n",
    "\n",
    "    output = tf.matmul(l3,output_layer['weights']) + output_layer['biases']\n",
    "\n",
    "    return output\n",
    "\n",
    "def train_neural_network(x):\n",
    "    prediction = neural_network_model(x)\n",
    "    cost = tf.reduce_mean( tf.nn.softmax_cross_entropy_with_logits(logits=prediction, labels=y) )\n",
    "    optimizer = tf.train.AdamOptimizer().minimize(cost)\n",
    "    \n",
    "    hm_epochs = 10\n",
    "    with tf.Session() as sess:\n",
    "        sess.run(tf.global_variables_initializer())\n",
    "\n",
    "        for epoch in range(hm_epochs):\n",
    "            epoch_loss = 0\n",
    "            \n",
    "            i = 0\n",
    "            while i < len(training_positive):\n",
    "                start = i\n",
    "                end = i+batch_size\n",
    "                batch_one = numpy.array(training_positive[start:end])\n",
    "                batch_two = numpy.array(training_negative[start:end])\n",
    "                \n",
    "                _, c = sess.run([optimizer, cost], feed_dict={x: batch_one, y: batch_two})\n",
    "                epoch_loss += c\n",
    "                i += batch_size\n",
    "\n",
    "            print('Epoch', epoch+1, 'completed out of',hm_epochs,'loss:',epoch_loss)\n",
    "\n",
    "        correct = tf.equal(tf.argmax(prediction, 1), tf.argmax(y, 1))\n",
    "\n",
    "        accuracy = tf.reduce_mean(tf.cast(correct, 'float'))\n",
    "        print('Accuracy:',accuracy.eval({x:testing_positive, y:testing_negative}))\n",
    "\n",
    "train_neural_network(x)"
   ]
  },
  {
   "cell_type": "markdown",
   "metadata": {},
   "source": [
    "## Using more data"
   ]
  },
  {
   "cell_type": "code",
   "execution_count": 37,
   "metadata": {},
   "outputs": [],
   "source": [
    "import io\n",
    "\n",
    "def init_process(fin,fout):\n",
    "    outfile = open(fout,'a')\n",
    "    with io.open(fin, buffering=200000, encoding='latin-1') as f:\n",
    "        try:\n",
    "            for line in f:\n",
    "                line = line.replace('\"','')\n",
    "                initial_polarity = line.split(',')[0]\n",
    "                if initial_polarity == '0':\n",
    "                    initial_polarity = [1,0]\n",
    "                elif initial_polarity == '4':\n",
    "                    initial_polarity = [0,1]\n",
    "\n",
    "                tweet = line.split(',')[-1]\n",
    "                outline = str(initial_polarity)+':::'+tweet\n",
    "                outfile.write(outline)\n",
    "        except Exception as e:\n",
    "            print(str(e))\n",
    "    outfile.close()"
   ]
  },
  {
   "cell_type": "markdown",
   "metadata": {},
   "source": [
    "## Uploading the new Sentiment140 data"
   ]
  },
  {
   "cell_type": "code",
   "execution_count": 40,
   "metadata": {},
   "outputs": [
    {
     "name": "stdout",
     "output_type": "stream",
     "text": [
      "'ascii' codec can't encode characters in position 12-14: ordinal not in range(128)\n"
     ]
    }
   ],
   "source": [
    "init_process('./data/training.1600000.processed.noemoticon.csv','train_set.csv')\n",
    "init_process('./data/testdata.manual.2009.06.14.csv','test_set.csv')"
   ]
  },
  {
   "cell_type": "code",
   "execution_count": null,
   "metadata": {},
   "outputs": [],
   "source": []
  }
 ],
 "metadata": {
  "kernelspec": {
   "display_name": "Python 2",
   "language": "python",
   "name": "python2"
  },
  "language_info": {
   "codemirror_mode": {
    "name": "ipython",
    "version": 2
   },
   "file_extension": ".py",
   "mimetype": "text/x-python",
   "name": "python",
   "nbconvert_exporter": "python",
   "pygments_lexer": "ipython2",
   "version": "2.7.12"
  }
 },
 "nbformat": 4,
 "nbformat_minor": 2
}
